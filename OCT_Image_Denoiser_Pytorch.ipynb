{
  "cells": [
    {
      "cell_type": "markdown",
      "metadata": {
        "id": "view-in-github",
        "colab_type": "text"
      },
      "source": [
        "<a href=\"https://colab.research.google.com/github/zahidcv/OCT-Image-Denoising/blob/main/OCT_Image_Denoiser_Pytorch.ipynb\" target=\"_parent\"><img src=\"https://colab.research.google.com/assets/colab-badge.svg\" alt=\"Open In Colab\"/></a>"
      ]
    },
    {
      "cell_type": "markdown",
      "source": [
        "My plan:\n",
        "\n",
        "\n",
        "\n",
        "---\n",
        "\n",
        "\n",
        "1. Colected Dataset from 3 sources.\n",
        "\n",
        "\n",
        "2.   managed to gather total of around **45 pairs** of clean and noisy image\n",
        "3.   created patch of size `64 x 64`\n",
        "4.   defined 2 functions `gan-fit`(only works with gan loss) and `no-gan-fit`    only works with mse loss)\n",
        "\n",
        "5. defined 2 functions `gan-fit`(only works with gan loss) and `no-gan-fit` (only works with mse loss)\n",
        "\n",
        "Findings:\n",
        "\n",
        "\n",
        "---\n",
        "\n",
        "\n",
        "1. `No GAN` function(only mse loss) seems to work and achieved 27 PSNR\n",
        "\n",
        "\n",
        "problem:\n",
        "\n",
        "---\n",
        "\n",
        "1. `Gan` function seem to learn nothing. The Discriminator loss become 0 and Generator loss gets sky-rocketed\n",
        "2. Denoised Image is a completely black image\n"
      ],
      "metadata": {
        "id": "kM5dAEguNtqV"
      }
    },
    {
      "cell_type": "code",
      "execution_count": 120,
      "metadata": {
        "id": "fmRcuBsjpoO1"
      },
      "outputs": [],
      "source": [
        "import os, shutil\n",
        "from os.path import join, isdir\n",
        "from os import mkdir, makedirs\n",
        "import cv2\n",
        "import sys\n",
        "import torch\n",
        "from torch.utils.data import Dataset\n",
        "from torchvision import datasets, transforms\n",
        "from torch.utils.data import DataLoader\n",
        "from torch import nn\n",
        "import matplotlib.pyplot as plt\n",
        "from PIL import Image\n",
        "from timeit import default_timer as timer\n",
        "from torch.utils.tensorboard import SummaryWriter"
      ]
    },
    {
      "cell_type": "code",
      "execution_count": 121,
      "metadata": {
        "colab": {
          "base_uri": "https://localhost:8080/"
        },
        "id": "A055G4iYmdGV",
        "outputId": "e468d55e-4147-4cdf-9a8f-10282b875037"
      },
      "outputs": [
        {
          "output_type": "stream",
          "name": "stdout",
          "text": [
            "cuda\n"
          ]
        }
      ],
      "source": [
        "# Find Out if the code is running in Google Colab\n",
        "\n",
        "COLAB = 'google.colab' in sys.modules\n",
        "\n",
        "#setting up Device for device agnostic code\n",
        "\n",
        "if torch.cuda.is_available():\n",
        "    DEVICE = \"cuda\"\n",
        "elif torch.mps.backened.is_available():\n",
        "    DEVICE = \"mps\"\n",
        "else:\n",
        "    DEVICE = \"cpu\"\n",
        "    \n",
        "print(DEVICE)"
      ]
    },
    {
      "cell_type": "code",
      "execution_count": 122,
      "metadata": {
        "id": "Z51mYX1M5vcZ"
      },
      "outputs": [],
      "source": [
        "if COLAB:\n",
        "  if not isdir(\"/content/Patch OCT Dataset\"):\n",
        "    print(\"Downloading dataset\")\n",
        "    !pip install -U --no-cache-dir gdown --pre    \n",
        "    !gdown 1q4Bm6z4xXTM2_1oIt5n3dyM0iCwPmTcI\n",
        "    !unzip '/content/Patch OCT Dataset.zip'\n",
        "    \n",
        "    \n",
        "    #   from google.colab import drive\n",
        "#   drive.mount('/content/drive')\n",
        "  \n",
        "#   # Defining Data Path\n",
        "#   Root_Dir = '/content/drive/MyDrive/Research/OCT datasets'"
      ]
    },
    {
      "cell_type": "code",
      "execution_count": 123,
      "metadata": {
        "colab": {
          "base_uri": "https://localhost:8080/"
        },
        "id": "EutO7EGFp3wM",
        "outputId": "cc4ce735-4883-4d8b-854a-98cd0b0c7e7e"
      },
      "outputs": [
        {
          "output_type": "stream",
          "name": "stdout",
          "text": [
            "Thu Apr 13 08:25:14 2023       \n",
            "+-----------------------------------------------------------------------------+\n",
            "| NVIDIA-SMI 525.85.12    Driver Version: 525.85.12    CUDA Version: 12.0     |\n",
            "|-------------------------------+----------------------+----------------------+\n",
            "| GPU  Name        Persistence-M| Bus-Id        Disp.A | Volatile Uncorr. ECC |\n",
            "| Fan  Temp  Perf  Pwr:Usage/Cap|         Memory-Usage | GPU-Util  Compute M. |\n",
            "|                               |                      |               MIG M. |\n",
            "|===============================+======================+======================|\n",
            "|   0  Tesla T4            Off  | 00000000:00:04.0 Off |                    0 |\n",
            "| N/A   49C    P0    28W /  70W |   2161MiB / 15360MiB |      0%      Default |\n",
            "|                               |                      |                  N/A |\n",
            "+-------------------------------+----------------------+----------------------+\n",
            "                                                                               \n",
            "+-----------------------------------------------------------------------------+\n",
            "| Processes:                                                                  |\n",
            "|  GPU   GI   CI        PID   Type   Process name                  GPU Memory |\n",
            "|        ID   ID                                                   Usage      |\n",
            "|=============================================================================|\n",
            "+-----------------------------------------------------------------------------+\n"
          ]
        }
      ],
      "source": [
        "!nvidia-smi"
      ]
    },
    {
      "cell_type": "code",
      "execution_count": 124,
      "metadata": {
        "id": "7wHx7xEfotNg"
      },
      "outputs": [],
      "source": [
        "# Setting Specific data path for each different data folder\n",
        "# first_first = os.path.join(Root_Dir,'Fast Acuisition', 'For synthetic experiments')\n",
        "# first_second = os.path.join(Root_Dir,'Fast Acuisition', 'Images for Dictionaries and Mapping leraning')\n",
        "# second = os.path.join(Root_Dir, 'Sparsity Based Denoising... _SDOCT_DATASET_2012_AMD')\n"
      ]
    },
    {
      "cell_type": "markdown",
      "source": [
        "## Importing raw images paths to `IMAGE_PATHS` list"
      ],
      "metadata": {
        "id": "4qWcsPIQ8D6V"
      }
    },
    {
      "cell_type": "code",
      "execution_count": 125,
      "metadata": {
        "id": "HQODa-Z6qPaW"
      },
      "outputs": [],
      "source": [
        "# Setting Specific data path for each different data folder\n",
        "# first_first = os.path.join(Root_Dir,'Fast Acuisition', 'For synthetic experiments')\n",
        "# first_second = os.path.join(Root_Dir,'Fast Acuisition', 'Images for Dictionaries and Mapping leraning')\n",
        "# second = os.path.join(Root_Dir, 'Sparsity Based Denoising... _SDOCT_DATASET_2012_AMD')\n",
        "# IMAGE_PATHS = []\n",
        "\n",
        "\n",
        "# def first_first():\n",
        "# # Adding paths of the First-First Dataset\n",
        "#   CLEAN_IMAGES = []\n",
        "#   NOISY_IMAGES = []\n",
        "#   IMAGE_PATHS = []\n",
        "#   for folder in os.listdir(first_first):\n",
        "#     folder_path = os.path.join(first_first, folder)\n",
        "\n",
        "    \n",
        "\n",
        "\n",
        "#     clean_img_path = join(folder_path, 'average.tif')\n",
        "#     noisy_image_path = join(folder_path, '1.tif')\n",
        "\n",
        "#     IMAGE_PATHS.append([noisy_image_path, clean_img_path, 'FAFSE'])\n",
        "\n",
        "\n",
        "# # second dataset\n",
        "# def second():\n",
        "#   for folder in sorted(os.listdir(second)):\n",
        "\n",
        "#     folder_path = os.path.join(second, folder)\n",
        "\n",
        "#     if os.path.isfile(folder_path):\n",
        "#       continue\n",
        "    \n",
        "\n",
        "#     for img in os.listdir(folder_path):\n",
        "#       if 'Averaged' in img:\n",
        "\n",
        "#         clean_img_path = join(folder_path, img)\n",
        "#       elif 'Raw' in img:\n",
        "\n",
        "#         noisy_image_path = join(folder_path, img)\n",
        "\n",
        "#     IMAGE_PATHS.append([noisy_image_path, clean_img_path, 'FAIFD'])\n",
        "\n",
        "\n",
        "\n",
        "# # First Second\n",
        "# def First_Second():\n",
        "#   for i in range(1,11):\n",
        "#     clean_image_path = join(first_second, f'HH{i}.tif')\n",
        "\n",
        "#     noisy_image_path = join(first_second, f'LL{i}.tif')\n",
        "\n",
        "#     IMAGE_PATHS.append([noisy_image_path, clean_image_path, 'SBD'])\n",
        "\n"
      ]
    },
    {
      "cell_type": "markdown",
      "metadata": {
        "id": "Gcip_RyTsFa8"
      },
      "source": [
        "### deleting contents of a folder"
      ]
    },
    {
      "cell_type": "code",
      "execution_count": 126,
      "metadata": {
        "id": "NOjBnED9rRtM"
      },
      "outputs": [],
      "source": [
        "import os, shutil\n",
        "def del_contents(path):\n",
        "  folder = path\n",
        "  for filename in os.listdir(folder):\n",
        "      file_path = os.path.join(folder, filename)\n",
        "      try:\n",
        "          if os.path.isfile(file_path) or os.path.islink(file_path):\n",
        "              os.unlink(file_path)\n",
        "          elif os.path.isdir(file_path):\n",
        "              shutil.rmtree(file_path)\n",
        "      except Exception as e:\n",
        "          print('Failed to delete %s. Reason: %s' % (file_path, e))"
      ]
    },
    {
      "cell_type": "markdown",
      "metadata": {
        "id": "lPjlUov_bBgU"
      },
      "source": [
        "## Saving Images in a single folder"
      ]
    },
    {
      "cell_type": "code",
      "execution_count": 127,
      "metadata": {
        "id": "ZDDqdSEo-ffk"
      },
      "outputs": [],
      "source": [
        "# # Saving Images in a single folder\n",
        "# root_dir = '/content/drive/MyDrive/Research/OCT datasets/Organised Dataset'\n",
        "# dir = root_dir\n",
        "# if isdir(root_dir):\n",
        "#   del_contents(root_dir)\n",
        "# else:\n",
        "#   mkdir(root_dir)\n",
        "# clean_dir = join(root_dir, 'Clean')\n",
        "# noisy_dir = join(root_dir, 'Noisy')\n",
        "\n",
        "# if not os.path.isdir(clean_dir):\n",
        "#   os.mkdir(clean_dir)\n",
        "#   os.mkdir(noisy_dir)\n",
        "\n",
        "# index = 1\n",
        "# for n,c,ds in IMAGE_PATHS:\n",
        "\n",
        "#   folder_name = f\"{index:03d} {ds}\"\n",
        "\n",
        "#   clean_folder_path = join(clean_dir, folder_name)\n",
        "\n",
        "#   if not os.path.isdir(clean_folder_path):\n",
        "#     os.mkdir(clean_folder_path)\n",
        "\n",
        "#   file_name = f\"{index:03d} {ds}.jpg\"\n",
        "#   clean_image_path = join(clean_folder_path, file_name)\n",
        "#   shutil.copy(c, clean_image_path)\n",
        "\n",
        "#   ######################\n",
        "\n",
        "#   noisy_folder_path = join(noisy_dir, folder_name)\n",
        "\n",
        "#   if not os.path.isdir(noisy_folder_path):\n",
        "#     os.mkdir(noisy_folder_path)\n",
        "\n",
        "#   file_name = f\"{index:03d} {ds}.jpg\"\n",
        "#   noisy_image_path = join(noisy_folder_path, file_name)\n",
        "#   shutil.copy(n, noisy_image_path)\n",
        "\n",
        "\n",
        "#   index+=1\n",
        "\n",
        "  "
      ]
    },
    {
      "cell_type": "code",
      "execution_count": 128,
      "metadata": {
        "id": "dpVHFeNxmJF7"
      },
      "outputs": [],
      "source": [
        "# len(IMAGE_PATHS)"
      ]
    },
    {
      "cell_type": "markdown",
      "metadata": {
        "id": "zTXwtJyBX0RQ"
      },
      "source": [
        "## Creating Image Patchs"
      ]
    },
    {
      "cell_type": "code",
      "execution_count": 129,
      "metadata": {
        "id": "xsdfL5IpVk5N"
      },
      "outputs": [],
      "source": [
        "# Creating Image Paths\n",
        "\n",
        "PATCH_SIZE = 64\n",
        "\n",
        "patch_root_dir = \"/content/drive/MyDrive/Research/OCT datasets/Patch OCT Dataset\"\n",
        "def create_patch(patch_size = 64, dest_dir = patch_root_dir):\n",
        "\n",
        "  #Check if the dest_dir is already availabe, if so, delete it otherwise create\n",
        "  if isdir(patch_root_dir):\n",
        "    del_contents(patch_root_dir)\n",
        "  else:\n",
        "    os.mkdir(patch_root_dir)\n",
        "\n",
        "\n",
        "  #setting the different paths for clean and Noisy patch\n",
        "  clean_patch_dir = join(patch_root_dir, 'Clean')\n",
        "  noisy_patch_dir = join(patch_root_dir, 'Noisy')\n",
        "\n",
        "  if not isdir(clean_patch_dir):\n",
        "    makedirs(clean_patch_dir)\n",
        "    makedirs(noisy_patch_dir)\n",
        "\n",
        "\n",
        "  patch_list = []\n",
        "\n",
        "  #setting the different paths for raw images\n",
        "  clean_raw_image_dir = '/content/drive/MyDrive/Research/OCT datasets/Organised Dataset/Clean'\n",
        "  noisy_raw_image_dir = '/content/drive/MyDrive/Research/OCT datasets/Organised Dataset/Noisy'\n",
        "\n",
        "\n",
        "  for folder in sorted(os.listdir(clean_raw_image_dir)):\n",
        "    clean_image_path = join(clean_raw_image_dir, folder, folder+'.jpg')\n",
        "    noisy_image_path = join(noisy_raw_image_dir, folder, folder+'.jpg')\n",
        "\n",
        "    clean_image = cv2.imread(clean_image_path,0)\n",
        "    noisy_image = cv2.imread(noisy_image_path, 0)\n",
        "\n",
        "    if(clean_image.shape != noisy_image.shape):\n",
        "      print(f\"Shape mismatch {clean_image.shape} - {noisy_image.shape} - {folder}\")\n",
        "\n",
        "    height, width = clean_image.shape\n",
        "\n",
        "    clean_patch_folder_path = join(clean_patch_dir, folder)\n",
        "    noisy_patch_folder_path = join(noisy_patch_dir, folder)\n",
        "    mkdir(clean_patch_folder_path)\n",
        "    mkdir(noisy_patch_folder_path)\n",
        "    \n",
        "    index = 1\n",
        "    for h in range(height//PATCH_SIZE):\n",
        "      # print(i)\n",
        "      for w in range(width//PATCH_SIZE):\n",
        "        # print(f\"j = {j}\")\n",
        "        clean_patch = clean_image[h*PATCH_SIZE:(h+1)*PATCH_SIZE , w*PATCH_SIZE:(w+1)*PATCH_SIZE , ]\n",
        "        clean_patch_image_path = join(clean_patch_folder_path, f\"{index:03d}.jpg\")\n",
        "        cv2.imwrite(clean_patch_image_path, clean_patch)\n",
        "        ######################\n",
        "        noisy_patch = noisy_image[h*PATCH_SIZE:(h+1)*PATCH_SIZE , w*PATCH_SIZE:(w+1)*PATCH_SIZE , ]\n",
        "        noisy_patch_image_path = join(noisy_patch_folder_path, f\"{index:03d}.jpg\")\n",
        "        cv2.imwrite(noisy_patch_image_path, noisy_patch)\n",
        "\n",
        "        # print(clean_patch_image_path, noisy_patch_image_path)\n",
        "\n",
        "\n",
        "      patch_list.append([noisy_patch, clean_patch])\n",
        "      index+=1\n",
        "\n",
        "      # plt.subplot(1,2,1)\n",
        "      # plt.imshow(noisy_patch, cmap='gray')\n",
        "      # plt.subplot(1,2,2)\n",
        "      # plt.imshow(clean_patch, cmap='gray')\n",
        "  #     break\n",
        "  #   break\n",
        "  # break\n",
        "\n",
        " "
      ]
    },
    {
      "cell_type": "code",
      "source": [
        "def de_patch():\n",
        "  pass\n",
        "  "
      ],
      "metadata": {
        "id": "lM3K3py6P_WO"
      },
      "execution_count": 130,
      "outputs": []
    },
    {
      "cell_type": "markdown",
      "metadata": {
        "id": "x8lifkJ3V3G6"
      },
      "source": [
        "# Loading dataset"
      ]
    },
    {
      "cell_type": "code",
      "execution_count": 131,
      "metadata": {
        "id": "Gnyf-vstBJ8s"
      },
      "outputs": [],
      "source": [
        "if COLAB:\n",
        "    patch_data_dir = '/content/Patch OCT Dataset'\n",
        "elif DEVICE == 'mps':\n",
        "    pass\n",
        "else:\n",
        "    patch_data_dir = r\"C:\\Users\\HP\\Documents\\Zahid\\OCT\\DATASET\\Patch OCT Dataset\"\n",
        "\n",
        "\n",
        "clean_data_dir = join(patch_data_dir, 'Clean')\n",
        "noisy_data_dir = join(patch_data_dir, 'Noisy')\n",
        "IMAGE_PATHS = []\n",
        "\n",
        "for folder in sorted(os.listdir(clean_data_dir)):\n",
        "    \n",
        "    if folder[0] == '.':\n",
        "        continue\n",
        "    \n",
        "    clean_folder_path = join(clean_data_dir, folder)\n",
        "    noisy_folder_path = join(noisy_data_dir, folder)\n",
        "    # print(current_folder_path)\n",
        "    for img in sorted(os.listdir(clean_folder_path)):\n",
        "        if img[0] == '.':\n",
        "            continue\n",
        "        # print(img)\n",
        "\n",
        "        clean_img_path = join(clean_folder_path, img)\n",
        "        noisy_img_path = join(noisy_folder_path, img)\n",
        "\n",
        "        IMAGE_PATHS.append([noisy_img_path, clean_img_path])\n",
        "        # print(clean_img_path, noisy_img_path)\n",
        "\n",
        "\n",
        "\n"
      ]
    },
    {
      "cell_type": "code",
      "execution_count": 132,
      "metadata": {
        "colab": {
          "base_uri": "https://localhost:8080/"
        },
        "id": "VsXahUnmnSej",
        "outputId": "74faaa6c-453e-4f06-b28a-1e2040bbdc6d"
      },
      "outputs": [
        {
          "output_type": "execute_result",
          "data": {
            "text/plain": [
              "4708"
            ]
          },
          "metadata": {},
          "execution_count": 132
        }
      ],
      "source": [
        "len(IMAGE_PATHS)"
      ]
    },
    {
      "cell_type": "markdown",
      "metadata": {
        "id": "FXgJvjTzZOuF"
      },
      "source": [
        "#  Datasets and Dataloaders"
      ]
    },
    {
      "cell_type": "markdown",
      "metadata": {
        "id": "WWReRdgAZavz"
      },
      "source": [
        "## Creating Dataset"
      ]
    },
    {
      "cell_type": "markdown",
      "metadata": {
        "id": "1ESKqrRhZHyI"
      },
      "source": [
        "### Custom Dataset Class"
      ]
    },
    {
      "cell_type": "code",
      "execution_count": 133,
      "metadata": {
        "id": "esaUkDNEz5C2"
      },
      "outputs": [],
      "source": [
        "class CustomDataset(Dataset):\n",
        "\n",
        "  def __init__(self, paths, transform = None):\n",
        "    self.paths = paths\n",
        "    self.transform = transform\n",
        "\n",
        "  def __getitem__(self, index:int, ):\n",
        "\n",
        "    noisy_img = Image.open(self.paths[index][0])\n",
        "    clean_img = Image.open(self.paths[index][1])\n",
        "    # clean_img = transforms.functional.adjust_sharpness(clean_img,sharpness_factor=10)\n",
        "\n",
        "    if self.transform:\n",
        "      return self.transform(noisy_img), self.transform(clean_img)\n",
        "\n",
        "    return noisy_img, clean_img\n",
        "\n",
        "\n",
        "\n",
        "  def __len__(self):\n",
        "    return len(self.paths)\n",
        "\n"
      ]
    },
    {
      "cell_type": "markdown",
      "metadata": {
        "id": "KRvBb74zZgJI"
      },
      "source": [
        "### Transformations"
      ]
    },
    {
      "cell_type": "code",
      "execution_count": 134,
      "metadata": {
        "id": "xSX09R8L6hSt"
      },
      "outputs": [],
      "source": [
        "# defining Transforms Needed to be done on the Images\n",
        "trans = transforms.Compose([\n",
        "    # transforms.ToPILImage(),\n",
        "    # transforms.Resize((128,128)),\n",
        "\n",
        "    transforms.ToTensor(),\n",
        "    # transforms.Normalize((0.5), (0.5))\n",
        "])"
      ]
    },
    {
      "cell_type": "markdown",
      "metadata": {
        "id": "pGYGQSc0Zi61"
      },
      "source": [
        "### Dataset Instance"
      ]
    },
    {
      "cell_type": "code",
      "execution_count": 135,
      "metadata": {
        "colab": {
          "base_uri": "https://localhost:8080/"
        },
        "id": "n-4k7fgk3xIy",
        "outputId": "7abe08d0-a2d8-4d5a-8aac-1b553e982f6a"
      },
      "outputs": [
        {
          "output_type": "execute_result",
          "data": {
            "text/plain": [
              "4708"
            ]
          },
          "metadata": {},
          "execution_count": 135
        }
      ],
      "source": [
        "# Dataset \n",
        "dataset = CustomDataset(IMAGE_PATHS, transform = trans)\n",
        "len(dataset)"
      ]
    },
    {
      "cell_type": "code",
      "execution_count": 136,
      "metadata": {
        "colab": {
          "base_uri": "https://localhost:8080/",
          "height": 623
        },
        "id": "PEKmRxJY-J_2",
        "outputId": "80c9063d-c981-4222-b5f0-427c0c229bc8"
      },
      "outputs": [
        {
          "output_type": "display_data",
          "data": {
            "text/plain": [
              "<Figure size 1800x1800 with 2 Axes>"
            ],
            "image/png": "[encoded data removed]"
          },
          "metadata": {}
        }
      ],
      "source": [
        "plt.figure(figsize = (18,18))\n",
        "plt.subplot(1,2,1)\n",
        "plt.imshow(dataset[1][0].squeeze(), cmap = 'gray')\n",
        "plt.title('Noisy Image')\n",
        "plt.axis(\"off\")\n",
        "\n",
        "plt.subplot(1,2,2)\n",
        "plt.imshow(dataset[1][1].squeeze(), cmap = 'gray')\n",
        "plt.title('Clean Image')\n",
        "plt.axis(\"off\")\n",
        "\n",
        "n,c = dataset[1][0], dataset[1][1]"
      ]
    },
    {
      "cell_type": "markdown",
      "metadata": {
        "id": "CGTGbilb86rY"
      },
      "source": [
        "## BATCH SIZE"
      ]
    },
    {
      "cell_type": "code",
      "execution_count": 137,
      "metadata": {
        "id": "bRvWrJXh8-b1"
      },
      "outputs": [],
      "source": [
        "BATCH_SIZE = 32"
      ]
    },
    {
      "cell_type": "markdown",
      "metadata": {
        "id": "2yccvZVV_Whs"
      },
      "source": [
        "## Data Loader"
      ]
    },
    {
      "cell_type": "code",
      "execution_count": 138,
      "metadata": {
        "colab": {
          "base_uri": "https://localhost:8080/"
        },
        "id": "h3kfsqfIpBvN",
        "outputId": "99843e90-afb0-464f-b857-067c7eed55fa"
      },
      "outputs": [
        {
          "output_type": "stream",
          "name": "stdout",
          "text": [
            "0.0005134590001034667\n"
          ]
        }
      ],
      "source": [
        "start_time = timer()\n",
        "r = torch.tensor([32,1,64,64], device = DEVICE)\n",
        "print(timer()-start_time)"
      ]
    },
    {
      "cell_type": "code",
      "execution_count": 139,
      "metadata": {
        "id": "ksV8x3G34Vg8"
      },
      "outputs": [],
      "source": [
        "train_dl = DataLoader(dataset, batch_size = BATCH_SIZE, shuffle = True,)\n"
      ]
    },
    {
      "cell_type": "code",
      "execution_count": 139,
      "metadata": {
        "id": "pup74pzfzeKK"
      },
      "outputs": [],
      "source": []
    },
    {
      "cell_type": "markdown",
      "metadata": {
        "id": "MpcwDon__Z0t"
      },
      "source": [
        "# Model Creation and Training Testing"
      ]
    },
    {
      "cell_type": "markdown",
      "metadata": {
        "id": "JSjwDmfs_e7o"
      },
      "source": [
        "## Generator Model"
      ]
    },
    {
      "cell_type": "code",
      "execution_count": 140,
      "metadata": {
        "id": "Hx2hNFHk9VyE"
      },
      "outputs": [],
      "source": [
        "class Generator(nn.Module):\n",
        "\n",
        "  def __init__(self):\n",
        "    super().__init__()\n",
        "    self.encoder = nn.Sequential(\n",
        "            nn.Conv2d(1, 16, kernel_size=3, stride=2, padding=1),\n",
        "            nn.BatchNorm2d(16),\n",
        "            nn.ReLU(),\n",
        "            nn.Conv2d(16, 32, kernel_size=3, stride=2, padding=1),\n",
        "            nn.BatchNorm2d(32),\n",
        "            nn.ReLU(),\n",
        "            nn.Conv2d(32, 64, kernel_size=3, stride=2, padding=1),\n",
        "            nn.BatchNorm2d(64),\n",
        "            nn.ReLU(),\n",
        "            nn.Conv2d(64, 128, kernel_size=3, stride=2, padding=1),\n",
        "            nn.ReLU()\n",
        "        )\n",
        "        \n",
        "        # decoder layers\n",
        "    self.decoder = nn.Sequential(\n",
        "        nn.ConvTranspose2d(128, 64, kernel_size=4, stride=2, padding=1),\n",
        "        nn.BatchNorm2d(64),\n",
        "        nn.ReLU(),\n",
        "        nn.ConvTranspose2d(64, 32, kernel_size=4, stride=2, padding=1),\n",
        "        nn.BatchNorm2d(32),\n",
        "        nn.ReLU(),\n",
        "        nn.ConvTranspose2d(32, 16, kernel_size=4, stride=2, padding=1),\n",
        "        nn.BatchNorm2d(16),\n",
        "        nn.ReLU(),\n",
        "        nn.ConvTranspose2d(16, 1, kernel_size=4, stride=2, padding=1),\n",
        "        nn.Sigmoid()\n",
        "    )\n",
        "\n",
        "\n",
        "    self.apply(self._init_weights)\n",
        "\n",
        "  def _init_weights(self, module):\n",
        "    if isinstance(module, nn.Linear):\n",
        "      module.weight.data.normal_(mean=0.0, std=1.0)\n",
        "      if module.bias is not None:\n",
        "          module.bias.data.zero_()\n",
        "\n",
        "\n",
        "\n",
        "  def forward(self, x):\n",
        "    encoded = self.encoder(x)\n",
        "\n",
        "    # print(f\"Shape of encoded: {encoded.shape}\")\n",
        "    decoded = self.decoder(encoded)\n",
        "    return decoded"
      ]
    },
    {
      "cell_type": "code",
      "source": [
        "# import torch\n",
        "# import torch.nn as nn\n",
        "\n",
        "# class ConvAutoencoder(nn.Module):\n",
        "#     def __init__(self):\n",
        "#         super(ConvAutoencoder, self).__init__()\n",
        "\n",
        "#         # Define the encoder layers\n",
        "#         self.encoder = nn.Sequential(\n",
        "#             nn.Conv2d(1, 16, 3, stride=2, padding=1),\n",
        "#             nn.ReLU(inplace=True),\n",
        "#             nn.Conv2d(16, 32, 3, stride=2, padding=1),\n",
        "#             nn.ReLU(inplace=True),\n",
        "#             nn.Conv2d(32, 64, 3, stride=2, padding=1),\n",
        "#             nn.ReLU(inplace=True),\n",
        "#             nn.Conv2d(64, 128, 3, stride=2, padding=1),\n",
        "#             nn.ReLU(inplace=True)\n",
        "#         )\n",
        "\n",
        "#         # Define the decoder layers\n",
        "#         self.decoder = nn.Sequential(\n",
        "#             nn.ConvTranspose2d(128, 64, 3, stride=2, padding=1, output_padding=1),\n",
        "#             nn.ReLU(inplace=True),\n",
        "#             nn.ConvTranspose2d(64, 32, 3, stride=2, padding=1, output_padding=1),\n",
        "#             nn.ReLU(inplace=True),\n",
        "#             nn.ConvTranspose2d(32, 16, 3, stride=2, padding=1, output_padding=1),\n",
        "#             nn.ReLU(inplace=True),\n",
        "#             nn.ConvTranspose2d(16, 1, 3, stride=2, padding=1, output_padding=1),\n",
        "#             nn.Sigmoid()\n",
        "#         )\n",
        "\n",
        "#     def forward(self, x):\n",
        "#         # Define the forward pass\n",
        "#         encoded = self.encoder(x)\n",
        "        \n",
        "#         # The output shape of the encoder should be [batch_size, 128, 4, 4]\n",
        "#         # If the input shape is [batch_size, 1, 64, 64]\n",
        "#         # Reshape the output of the encoder to match the shape of the input\n",
        "#         encoded = encoded.view(x.size(0), 128, 4, 4)\n",
        "        \n",
        "#         print(f\"Shape of encoded: {encoded.shape}\")\n",
        "#         # Add the residual connection by adding the input to the output of the decoder\n",
        "#         decoded = self.decoder(encoded) + x\n",
        "\n",
        "#         print(f\"Shape of encoded: {encoded.shape}\")\n",
        "        \n",
        "#         return decoded\n",
        "\n",
        "\n",
        "# rand_img = torch.randn([32, 1, 64, 64])\n",
        "# print(f\"Random Image shape: {rand_img.shape}\")\n",
        "# # print()\n",
        "# generator = Generator()\n",
        "\n",
        "# result = generator(rand_img)"
      ],
      "metadata": {
        "id": "vyVjKmcIdk0A"
      },
      "execution_count": 141,
      "outputs": []
    },
    {
      "cell_type": "markdown",
      "metadata": {
        "id": "STH30FOvLGbS"
      },
      "source": [
        "### Test Generator Model"
      ]
    },
    {
      "cell_type": "code",
      "execution_count": 142,
      "metadata": {
        "id": "KJRQzhsBGhRM",
        "outputId": "d1d92e69-0930-44c7-9a67-6adec33683d3",
        "colab": {
          "base_uri": "https://localhost:8080/"
        }
      },
      "outputs": [
        {
          "output_type": "stream",
          "name": "stdout",
          "text": [
            "Random Image shape: 3.5762786865234375e-07\n"
          ]
        }
      ],
      "source": [
        "rand_img = torch.rand([32, 1, 64, 64])\n",
        "print(f\"Random Image shape: {rand_img.min()}\")\n",
        "# print()\n",
        "generator = Generator()\n",
        "\n",
        "result = generator(rand_img)"
      ]
    },
    {
      "cell_type": "code",
      "execution_count": 143,
      "metadata": {
        "colab": {
          "base_uri": "https://localhost:8080/",
          "height": 448
        },
        "id": "SFNXpOK_J8g2",
        "outputId": "dbf90a52-81ae-4d6a-b918-2b07996008ad"
      },
      "outputs": [
        {
          "output_type": "stream",
          "name": "stdout",
          "text": [
            "torch.Size([1, 1, 64, 64])\n"
          ]
        },
        {
          "output_type": "display_data",
          "data": {
            "text/plain": [
              "<Figure size 640x480 with 1 Axes>"
            ],
            "image/png": "[encoded data removed]"
          },
          "metadata": {}
        }
      ],
      "source": [
        "generator = Generator().to(DEVICE)\n",
        "\n",
        "x = n.unsqueeze(dim=1)\n",
        "\n",
        "result = generator(x.to(DEVICE))\n",
        "print(result.shape)\n",
        "with torch.inference_mode():\n",
        "  plt.imshow(result.squeeze().to('cpu'), cmap='gray')"
      ]
    },
    {
      "cell_type": "code",
      "execution_count": 144,
      "metadata": {
        "colab": {
          "base_uri": "https://localhost:8080/",
          "height": 287
        },
        "id": "ucUZwkAiX1Oe",
        "outputId": "b38a72c7-ce21-4277-8275-34eb7f9f3576"
      },
      "outputs": [
        {
          "output_type": "display_data",
          "data": {
            "text/plain": [
              "<Figure size 1000x1000 with 3 Axes>"
            ],
            "image/png": "[encoded data removed]"
          },
          "metadata": {}
        }
      ],
      "source": [
        "test_noisy_image = n.to(DEVICE)\n",
        "gen_clean_image = generator(test_noisy_image.unsqueeze(dim=1)).squeeze()\n",
        "real_clean_image = c\n",
        "\n",
        "\n",
        "fig = plt.figure(figsize = (10,10))\n",
        "with torch.inference_mode():\n",
        "  fig.add_subplot(1,3,1)\n",
        "  plt.imshow(test_noisy_image.squeeze().to('cpu'), cmap='gray')\n",
        "  plt.title(\"Real Noisy Image\")\n",
        "  plt.axis('off')\n",
        "\n",
        "  fig.add_subplot(1,3,2)\n",
        "  plt.imshow(gen_clean_image.to('cpu'), cmap='gray')\n",
        "  plt.title(\"Fake Clean Image: Not Trained\")\n",
        "  plt.axis('off')\n",
        "\n",
        "  fig.add_subplot(1,3,3)\n",
        "  plt.imshow(real_clean_image.squeeze().to('cpu'), cmap='gray')\n",
        "  plt.title(\"Real Clean Image\")\n",
        "  plt.axis('off')"
      ]
    },
    {
      "cell_type": "markdown",
      "metadata": {
        "id": "EWGunl6CKDnk"
      },
      "source": [
        "## Discriminitor "
      ]
    },
    {
      "cell_type": "code",
      "execution_count": 145,
      "metadata": {
        "id": "toNh3P9QMe2-"
      },
      "outputs": [],
      "source": [
        "class Discriminator(nn.Module):\n",
        "  def __init__(self, input_shape, output_shape):\n",
        "    super().__init__()\n",
        "\n",
        "    self.block_1 = nn.Sequential(\n",
        "        \n",
        "        nn.Conv2d(\n",
        "            in_channels = input_shape, \n",
        "            out_channels = 64,\n",
        "            kernel_size = 3,\n",
        "            # padding=1,\n",
        "            # stride=1,\n",
        "        ),\n",
        "        nn.BatchNorm2d(64),\n",
        "        nn.ReLU(),\n",
        "\n",
        "        nn.MaxPool2d(\n",
        "            kernel_size = 2,\n",
        "            # stride=2,\n",
        "        ),\n",
        "\n",
        "        # \n",
        "        # nn.Conv2d(\n",
        "        #     in_channels = 64, \n",
        "        #     out_channels = 128,\n",
        "        #     kernel_size = 3,\n",
        "        #     # padding=1,\n",
        "        #     # stride=1,\n",
        "\n",
        "        # ),\n",
        "        # nn.BatchNorm2d(128),\n",
        "        # nn.ReLU(),\n",
        "\n",
        "        # nn.MaxPool2d(\n",
        "        #     kernel_size = 2,\n",
        "        #     # stride=2,\n",
        "        # ),\n",
        "        # \n",
        "\n",
        "#         nn.Conv2d(\n",
        "#             in_channels = 128, \n",
        "#             out_channels = 256,\n",
        "#             kernel_size = 3,\n",
        "#             # padding=1,\n",
        "#             # stride=1,\n",
        "\n",
        "#         ),\n",
        "#         nn.BatchNorm2d(256),\n",
        "#         nn.ReLU(),\n",
        "\n",
        "#         nn.MaxPool2d(\n",
        "#             kernel_size = 2,\n",
        "#             # stride=2,\n",
        "#         ),\n",
        "#         # \n",
        "\n",
        "#         nn.Conv2d(\n",
        "#             in_channels = 256, \n",
        "#             out_channels = 512,\n",
        "#             kernel_size = 3,\n",
        "#             # padding=1,\n",
        "#             # stride=1,\n",
        "\n",
        "#         ),\n",
        "#         nn.BatchNorm2d(512),\n",
        "#         nn.ReLU(),\n",
        "\n",
        "#         nn.MaxPool2d(\n",
        "#             kernel_size = 2,\n",
        "#             # stride=2,\n",
        "#         ),\n",
        "\n",
        "\n",
        "    )\n",
        "\n",
        "\n",
        "    self.classifier = nn.Sequential(\n",
        "        nn.Flatten(),\n",
        "        nn.Linear(in_features = 64*31*31, out_features = 256),\n",
        "        nn.ReLU(),\n",
        "        nn.Linear(in_features = 256, out_features = output_shape)\n",
        "\n",
        "    )\n",
        "  \n",
        "  def forward(self, x):\n",
        "    x = self.block_1(x)\n",
        "\n",
        "    # print(x.shape)\n",
        "    x = self.classifier(x)\n",
        "\n",
        "    return x\n",
        "\n",
        "\n",
        "\n"
      ]
    },
    {
      "cell_type": "markdown",
      "metadata": {
        "id": "iUDu02I2LOrL"
      },
      "source": [
        "### Test Discriminator"
      ]
    },
    {
      "cell_type": "code",
      "execution_count": 146,
      "metadata": {
        "colab": {
          "base_uri": "https://localhost:8080/"
        },
        "id": "tO41k3t9Gli0",
        "outputId": "b2e3a4e1-219d-4443-d939-325182333b1f"
      },
      "outputs": [
        {
          "output_type": "stream",
          "name": "stdout",
          "text": [
            "torch.Size([20, 1])\n"
          ]
        }
      ],
      "source": [
        "# Test Discriminator\n",
        "discriminator = Discriminator(1,1).to(DEVICE)\n",
        "x = torch.rand(size = [20,1,64,64]).to(DEVICE)\n",
        "\n",
        "r = discriminator(x)\n",
        "print(r.shape)\n"
      ]
    },
    {
      "cell_type": "markdown",
      "metadata": {
        "id": "UG6V12NmKNBV"
      },
      "source": [
        "## Hyperparameters"
      ]
    },
    {
      "cell_type": "code",
      "execution_count": 147,
      "metadata": {
        "id": "fHhKGtAf_tmC",
        "outputId": "bf2383a9-5855-4acf-b463-df032aa173c2",
        "colab": {
          "base_uri": "https://localhost:8080/",
          "height": 67
        }
      },
      "outputs": [
        {
          "output_type": "execute_result",
          "data": {
            "text/plain": [
              "'\\nFindings:\\n1. Learning rate >= 0.1 gives poor performance\\n2. Learning rate = 0.001 and w_d = 1e-4 has good start but eventually performs worse. \\n3. Learning rate = 0.01 and w_d = 1e-5 has performs worse performance than 2.\\n3. Learning rate = 0.0001 and w_d = 1e-5 has performs the best so far.\\n'"
            ],
            "application/vnd.google.colaboratory.intrinsic+json": {
              "type": "string"
            }
          },
          "metadata": {},
          "execution_count": 147
        }
      ],
      "source": [
        "mse_loss = nn.MSELoss()\n",
        "bceloss = nn.BCEWithLogitsLoss()\n",
        "\n",
        "\n",
        "optim_d = torch.optim.Adam(discriminator.parameters(), lr = 0.01, weight_decay=1e-5)\n",
        "optim_g = torch.optim.Adam(generator.parameters(), lr = 0.0001, weight_decay=1e-5)\n",
        "\n",
        "\n",
        "\"\"\"\n",
        "Findings:\n",
        "1. Learning rate >= 0.1 gives poor performance\n",
        "2. Learning rate = 0.001 and w_d = 1e-4 has good start but eventually performs worse. \n",
        "3. Learning rate = 0.01 and w_d = 1e-5 has performs worse performance than 2.\n",
        "3. Learning rate = 0.0001 and w_d = 1e-5 has performs the best so far.\n",
        "\"\"\"\n"
      ]
    },
    {
      "cell_type": "markdown",
      "metadata": {
        "id": "EfuPNLziWm1K"
      },
      "source": [
        "## Util Functions"
      ]
    },
    {
      "cell_type": "markdown",
      "metadata": {
        "id": "3sW1J6NyWxIH"
      },
      "source": [
        "### Show sample"
      ]
    },
    {
      "cell_type": "code",
      "execution_count": 148,
      "metadata": {
        "id": "Y9Ib51BIpzvE"
      },
      "outputs": [],
      "source": [
        "def show_sample():\n",
        "  test_noisy_image = n.to(DEVICE)\n",
        "  gen_clean_image = generator(test_noisy_image.unsqueeze(dim=1)).squeeze()\n",
        "  real_clean_image = c\n",
        "\n",
        "  fig = plt.figure(figsize = (10,10))\n",
        "\n",
        "  with torch.inference_mode():\n",
        "    fig.add_subplot(1,3,1)\n",
        "    plt.imshow(test_noisy_image.squeeze().to('cpu'), cmap='gray')\n",
        "    plt.title(\"Real Noisy Image\")\n",
        "    plt.axis('off')\n",
        "\n",
        "    fig.add_subplot(1,3,2)\n",
        "    plt.imshow(gen_clean_image.to('cpu'), cmap='gray')\n",
        "    plt.title(\"Fake Clean Image\")\n",
        "    plt.axis('off')\n",
        "\n",
        "    fig.add_subplot(1,3,3)\n",
        "    plt.imshow(real_clean_image.squeeze(), cmap='gray')\n",
        "    plt.title(\"Real Clean Image\")\n",
        "    plt.axis('off')\n",
        "\n",
        "    plt.show()"
      ]
    },
    {
      "cell_type": "markdown",
      "metadata": {
        "id": "o5ntxNdTWzv6"
      },
      "source": [
        "### PSNR calculation"
      ]
    },
    {
      "cell_type": "code",
      "execution_count": 149,
      "metadata": {
        "id": "6EgQt2LRX4Ha"
      },
      "outputs": [],
      "source": [
        "from math import log10,sqrt\n",
        "def PSNR(original, compressed):\n",
        "    mse = torch.mean((torch.sub(original, compressed)) ** 2)\n",
        "    if(mse == 0):  # MSE is zero means no noise is present in the signal .\n",
        "                  # Therefore PSNR have no importance.\n",
        "        return 100\n",
        "    max_pixel = torch.max(original)\n",
        "    psnr = 20 * log10(max_pixel / sqrt(mse))\n",
        "    return psnr"
      ]
    },
    {
      "cell_type": "markdown",
      "metadata": {
        "id": "n3pCrOaOLhf2"
      },
      "source": [
        "## Train Step"
      ]
    },
    {
      "cell_type": "markdown",
      "metadata": {
        "id": "9gS__UndW4eu"
      },
      "source": [
        "### Discriminator Trainer"
      ]
    },
    {
      "cell_type": "code",
      "execution_count": 150,
      "metadata": {
        "id": "vQxmiKsnLkPX"
      },
      "outputs": [],
      "source": [
        "import torch.nn.functional as F\n",
        "\n",
        "\n",
        "def train_discriminator(noisy_images, clean_images, optimizer_d):\n",
        "  optimizer_d.zero_grad()\n",
        "\n",
        "  preds_for_real = discriminator(clean_images)\n",
        "  targets_for_real = torch.ones(clean_images.size(0), 1, device = DEVICE)\n",
        "  \n",
        "  loss_for_real = bceloss(preds_for_real, targets_for_real)\n",
        "  real_score = torch.mean(preds_for_real).item()\n",
        "\n",
        "\n",
        "\n",
        "  fake_clean_images = generator(noisy_images)\n",
        "\n",
        "\n",
        "  preds_for_fake = discriminator(fake_clean_images)\n",
        "  targets_for_fake = torch.zeros(fake_clean_images.size(0), 1, device = DEVICE)\n",
        "\n",
        "  loss_for_fake = bceloss(preds_for_fake, targets_for_fake)\n",
        "\n",
        "  fake_score = torch.mean(preds_for_fake).item()\n",
        "\n",
        "  # diff_in_images = mseloss(clean_images, fake_clean_images)\n",
        "  # writer.add_scalar('Diff in Image', diff_in_images )\n",
        "  # print(f\"Disc Diff in Images: {diff_in_images}\")\n",
        "\n",
        "  loss = loss_for_real + loss_for_fake \n",
        "  # print(diff_in_images, loss_for_real, loss_for_fake)\n",
        "  \n",
        "  loss.backward()\n",
        "\n",
        "  optimizer_d.step()\n",
        "\n",
        "  return loss.item(), real_score, fake_score\n",
        "\n",
        "\n"
      ]
    },
    {
      "cell_type": "markdown",
      "metadata": {
        "id": "2aCgXKAuW7Yr"
      },
      "source": [
        "### Generator Trainer"
      ]
    },
    {
      "cell_type": "code",
      "execution_count": 162,
      "metadata": {
        "id": "arPrn3IxRP18"
      },
      "outputs": [],
      "source": [
        "mse_loss = nn.MSELoss()\n",
        "def train_generator(noisy_images, real_images, optimizer_g):\n",
        "\n",
        "  fake_images = generator(noisy_images)\n",
        "  with torch.inference_mode():\n",
        "    preds_for_fake = discriminator(fake_images)\n",
        "\n",
        "  false_targets_for_fake = torch.ones(fake_images.size(0), 1, device = DEVICE)\n",
        "\n",
        "  # diff_in_images = mseloss(real_images, fake_images)\n",
        "  # print(f\"Diff in Images: {diff_in_images}\")\n",
        "  g_loss_bce = bceloss(preds_for_fake, false_targets_for_fake)\n",
        "\n",
        "  g_loss_mse = mse_loss(fake_images, real_images)\n",
        "\n",
        "  # Extract VGG features\n",
        "  fake_features = vgg_features(fake_images)\n",
        "\n",
        "  real_features = vgg_features(real_images)\n",
        "  g_loss_perceptual = mse_loss(fake_features, real_features)\n",
        "  \n",
        "  g_loss = g_loss_bce + 0.1 * g_loss_mse + 0.01 * g_loss_perceptual\n",
        "  print(f\"g_loss, g_loss_bce, g_loss_mse, g_loss_perceptual --> {g_loss:.4f}, {g_loss_bce:.4f}, {g_loss_mse:.4f},{g_loss_perceptual:.4f}\")\n",
        "  # generator_loss.backward()\n",
        "\n",
        "\n",
        "  optimizer_g.zero_grad()\n",
        "  g_loss.backward()\n",
        "  optimizer_g.step()\n",
        "\n",
        "  return g_loss.item()"
      ]
    },
    {
      "cell_type": "markdown",
      "metadata": {
        "id": "tlSAbrHF5vcz"
      },
      "source": [
        "## Tensorboards Setup\n"
      ]
    },
    {
      "cell_type": "code",
      "execution_count": 163,
      "metadata": {
        "id": "9Aq03LsP5vcz",
        "outputId": "62f656a8-d079-499f-e50d-de40eeb86c9a",
        "colab": {
          "base_uri": "https://localhost:8080/"
        }
      },
      "outputs": [
        {
          "name": "stdout",
          "output_type": "stream",
          "text": [
            "Name the Experiment: perceptual 1, 0.1, 0.01, lr o.0001\n"
          ]
        }
      ],
      "source": [
        "name = input(\"Name the Experiment: \")\n",
        "writer = SummaryWriter(f'runs/OCT Denoise/{name}')"
      ]
    },
    {
      "cell_type": "markdown",
      "metadata": {
        "id": "eCpuZGwQWanc"
      },
      "source": [
        "## Fit Function"
      ]
    },
    {
      "cell_type": "code",
      "execution_count": 164,
      "metadata": {
        "id": "7yKFooss_3Un"
      },
      "outputs": [],
      "source": [
        "from tqdm.notebook import tqdm\n",
        "Images = []\n",
        "def gan_fit(EPOCHS, start_idx= 1):\n",
        "  torch.cuda.empty_cache()\n",
        "\n",
        "  Gen_Loss = []\n",
        "  Dis_Loss = []\n",
        "\n",
        "  Real_Scores = []\n",
        "  Fake_Scores = []\n",
        "\n",
        "  for epoch in tqdm(range(EPOCHS)):\n",
        "\n",
        "    for noisy_images, clean_images in tqdm(train_dl):\n",
        "      noisy_images = noisy_images.to(DEVICE,)\n",
        "      clean_images = clean_images.to(DEVICE,)\n",
        "\n",
        "      loss_d, real_score, fake_score = train_discriminator(noisy_images, clean_images, optim_d)\n",
        "      loss_g = train_generator(noisy_images, clean_images, optim_g)\n",
        "      \n",
        "      #forward Pass\n",
        "        \n",
        "\n",
        "        \n",
        "        \n",
        "      #Backward Pass\n",
        "\n",
        "\n",
        "      Gen_Loss.append(loss_g)\n",
        "      Dis_Loss.append(loss_d)\n",
        "      writer.add_scalar('Disc LOSS', loss_d, global_step = epoch+1)\n",
        "      writer.add_scalar('Gen LOSS', loss_g, global_step = epoch+1)\n",
        "   \n",
        "\n",
        "#       Real_Scores.append(real_score)\n",
        "#       Fake_Scores.append(fake_score)\n",
        "\n",
        "    # show_sample()\n",
        "      test_noisy_image = n.to(DEVICE)\n",
        "      gen_clean_image = generator(test_noisy_image.unsqueeze(dim=1)).squeeze()\n",
        "      real_clean_image = c.to(DEVICE)\n",
        "\n",
        "      psnr_before = PSNR(real_clean_image, test_noisy_image)\n",
        "      psnr_after= PSNR(real_clean_image, gen_clean_image)\n",
        "      # writer.add_scalar('PSNR', psnr, global_step = epoch+1)\n",
        "      writer.add_scalar('PSNR with Noisy', psnr_before, global_step = epoch+1)\n",
        "      writer.add_scalar('PSNR with Resultant clean', psnr_after, global_step = epoch+1)\n",
        "      writer.add_image('Fake Clean Image', gen_clean_image, dataformats='HW')\n",
        "      Images.append([test_noisy_image.to('cpu'),gen_clean_image.to('cpu'), real_clean_image])\n",
        "    \n",
        "    print(f\"EPOCH: {epoch+1} | Gen Loss: {loss_g:.4f} |  Dis Loss: {loss_d:.4f} | PSNR: {psnr_before:.4f}-->{psnr_after:.4f} \\n\\n\")\n",
        "\n",
        "    # save_samples(epoch+start_idx, fixed_latent, show = False)\n",
        "  \n",
        "  return Gen_Loss, Dis_Loss, Real_Scores, Fake_Scores\n"
      ]
    },
    {
      "cell_type": "markdown",
      "metadata": {
        "id": "LYt8-75F5vc0"
      },
      "source": [
        "## No GAN"
      ]
    },
    {
      "cell_type": "code",
      "execution_count": 165,
      "metadata": {
        "id": "I3LNQ1e55vc0"
      },
      "outputs": [],
      "source": [
        "from tqdm.notebook import tqdm\n",
        "# Images = []\n",
        "all_loss = []\n",
        "def no_gan_fit(EPOCHS, start_idx= 1):\n",
        "  torch.cuda.empty_cache()\n",
        "\n",
        "  for epoch in range(EPOCHS):\n",
        "    \n",
        "    for noisy_images, clean_images in train_dl:\n",
        "      noisy_images = noisy_images.to(DEVICE,)\n",
        "      clean_images = clean_images.to(DEVICE,)\n",
        "      \n",
        "      #forward Pass\n",
        "        \n",
        "      optim_g.zero_grad()\n",
        "\n",
        "      res = generator(noisy_images)\n",
        "      psnr_before = PSNR(clean_images, noisy_images)\n",
        "      psnr_after = PSNR(clean_images, res)\n",
        "      loss = mseloss(res, clean_images)\n",
        "        \n",
        "        \n",
        "      #Backward Pass\n",
        "      loss.backward()\n",
        "      optim_g.step()\n",
        "      \n",
        "        \n",
        "    \n",
        "      writer.add_scalar('MSE LOSS', loss.item(), global_step = epoch+1)\n",
        "      writer.add_scalar('PSNR with Noisy', psnr_before, global_step = epoch+1)\n",
        "      writer.add_scalar('PSNR with Resultant clean', psnr_after, global_step = epoch+1)\n",
        "\n",
        "    print(f\"EPOCH: {epoch+1} | MSE Loss: {loss.item():.4f} | PSNR: {psnr_before:.4f}-->{psnr_after:.4f}\")\n",
        "    \n",
        "  \n",
        "  return loss.item()\n"
      ]
    },
    {
      "cell_type": "code",
      "execution_count": 166,
      "metadata": {
        "colab": {
          "base_uri": "https://localhost:8080/"
        },
        "id": "kTqLOXHqjPBd",
        "outputId": "c7c2428a-15e5-4c46-d15a-465c70094f46"
      },
      "outputs": [
        {
          "data": {
            "text/plain": [
              "7.775882953940343"
            ]
          },
          "execution_count": 166,
          "metadata": {},
          "output_type": "execute_result"
        }
      ],
      "source": [
        "# testing PSNR for random image\n",
        "PSNR(torch.rand([32,1,64,64]),torch.rand([32,1,64,64]))\n"
      ]
    },
    {
      "cell_type": "markdown",
      "metadata": {
        "id": "ECcdv5JOWVBg"
      },
      "source": [
        "## Wrapper"
      ]
    },
    {
      "cell_type": "code",
      "source": [
        "vgg = models.vgg16(pretrained=True)\n",
        "vgg.to(DEVICE)\n",
        "vgg_features = vgg.features[:23].eval()\n",
        "vgg_features[0] = nn.Conv2d(1, 64, kernel_size=3, stride=1, padding=1)\n",
        "print(vgg_features)"
      ],
      "metadata": {
        "id": "U3UpY9TIiGXF",
        "outputId": "e6e52f85-627a-4dbd-84f7-23e0df282369",
        "colab": {
          "base_uri": "https://localhost:8080/"
        }
      },
      "execution_count": 167,
      "outputs": [
        {
          "output_type": "stream",
          "name": "stdout",
          "text": [
            "Sequential(\n",
            "  (0): Conv2d(1, 64, kernel_size=(3, 3), stride=(1, 1), padding=(1, 1))\n",
            "  (1): ReLU(inplace=True)\n",
            "  (2): Conv2d(64, 64, kernel_size=(3, 3), stride=(1, 1), padding=(1, 1))\n",
            "  (3): ReLU(inplace=True)\n",
            "  (4): MaxPool2d(kernel_size=2, stride=2, padding=0, dilation=1, ceil_mode=False)\n",
            "  (5): Conv2d(64, 128, kernel_size=(3, 3), stride=(1, 1), padding=(1, 1))\n",
            "  (6): ReLU(inplace=True)\n",
            "  (7): Conv2d(128, 128, kernel_size=(3, 3), stride=(1, 1), padding=(1, 1))\n",
            "  (8): ReLU(inplace=True)\n",
            "  (9): MaxPool2d(kernel_size=2, stride=2, padding=0, dilation=1, ceil_mode=False)\n",
            "  (10): Conv2d(128, 256, kernel_size=(3, 3), stride=(1, 1), padding=(1, 1))\n",
            "  (11): ReLU(inplace=True)\n",
            "  (12): Conv2d(256, 256, kernel_size=(3, 3), stride=(1, 1), padding=(1, 1))\n",
            "  (13): ReLU(inplace=True)\n",
            "  (14): Conv2d(256, 256, kernel_size=(3, 3), stride=(1, 1), padding=(1, 1))\n",
            "  (15): ReLU(inplace=True)\n",
            "  (16): MaxPool2d(kernel_size=2, stride=2, padding=0, dilation=1, ceil_mode=False)\n",
            "  (17): Conv2d(256, 512, kernel_size=(3, 3), stride=(1, 1), padding=(1, 1))\n",
            "  (18): ReLU(inplace=True)\n",
            "  (19): Conv2d(512, 512, kernel_size=(3, 3), stride=(1, 1), padding=(1, 1))\n",
            "  (20): ReLU(inplace=True)\n",
            "  (21): Conv2d(512, 512, kernel_size=(3, 3), stride=(1, 1), padding=(1, 1))\n",
            "  (22): ReLU(inplace=True)\n",
            ")\n"
          ]
        }
      ]
    },
    {
      "cell_type": "code",
      "source": [],
      "metadata": {
        "id": "oj72cxShiSE_"
      },
      "execution_count": 167,
      "outputs": []
    },
    {
      "cell_type": "code",
      "execution_count": 168,
      "metadata": {
        "colab": {
          "base_uri": "https://localhost:8080/",
          "height": 1000,
          "referenced_widgets": [
            "ee2c424d6b3043e6b98b78bba2d7c8f9",
            "13cc8bf323154b378536ce4b6f76b690",
            "30b062334cf54d138d1038aef92531e4",
            "2667d7a9f8154b05b241a95230b2db52",
            "e803b688d1d14153917fca28af62147f",
            "50b3e2208dae4da1889a7a9a19eea036",
            "2a1d7b7c520649c58a97fe4903aec6d9",
            "f9872720c36e4e249f16962651b8095b",
            "e79dca72615f4851b0cfc6e434a63491",
            "038452d4d63545199ef65d14524c2694",
            "5d46b5c554b04229b3d2fdb1fcb3ea9f",
            "3d80a6ae381e403c9b6b6e91e1406aa1",
            "c6b4659c44c44b39b0514cea70cae957",
            "ac7076ba469648f98eaa69274f5c7a5e",
            "9b22bdb539e04125949ab8d852656dbe",
            "14afb3ed0ca04f43a4aa7e547d4182cc",
            "7961c63b308e4080a66928c113bde847",
            "bab7dab949f94424ac7ad6e280b6d823",
            "38bb4bfe101d44129be54623ced81375",
            "344b81445e534b3da31f08cd19a20c89",
            "d52406af42e041f1a4060d47416ee65f",
            "22ae1954a58d480387dd50ef36d5e615"
          ]
        },
        "id": "-_-yL6V0As72",
        "outputId": "245f3429-1902-48bc-e7c4-924a170b44d7",
        "scrolled": true
      },
      "outputs": [
        {
          "name": "stdout",
          "output_type": "stream",
          "text": [
            "Enter EPOCHS:100\n"
          ]
        },
        {
          "output_type": "display_data",
          "data": {
            "text/plain": [
              "  0%|          | 0/100 [00:00<?, ?it/s]"
            ],
            "application/vnd.jupyter.widget-view+json": {
              "version_major": 2,
              "version_minor": 0,
              "model_id": "ee2c424d6b3043e6b98b78bba2d7c8f9"
            }
          },
          "metadata": {}
        },
        {
          "output_type": "display_data",
          "data": {
            "text/plain": [
              "  0%|          | 0/148 [00:00<?, ?it/s]"
            ],
            "application/vnd.jupyter.widget-view+json": {
              "version_major": 2,
              "version_minor": 0,
              "model_id": "13cc8bf323154b378536ce4b6f76b690"
            }
          },
          "metadata": {}
        },
        {
          "output_type": "error",
          "ename": "RuntimeError",
          "evalue": "ignored",
          "traceback": [
            "\u001b[0;31m---------------------------------------------------------------------------\u001b[0m",
            "\u001b[0;31mRuntimeError\u001b[0m                              Traceback (most recent call last)",
            "\u001b[0;32m<ipython-input-168-99e09727c501>\u001b[0m in \u001b[0;36m<cell line: 6>\u001b[0;34m()\u001b[0m\n\u001b[1;32m      4\u001b[0m \u001b[0;34m\u001b[0m\u001b[0m\n\u001b[1;32m      5\u001b[0m \u001b[0mstart_time\u001b[0m \u001b[0;34m=\u001b[0m \u001b[0mtimer\u001b[0m\u001b[0;34m(\u001b[0m\u001b[0;34m)\u001b[0m\u001b[0;34m\u001b[0m\u001b[0;34m\u001b[0m\u001b[0m\n\u001b[0;32m----> 6\u001b[0;31m \u001b[0mhistory\u001b[0m \u001b[0;34m=\u001b[0m \u001b[0mgan_fit\u001b[0m\u001b[0;34m(\u001b[0m\u001b[0mEPOCHS\u001b[0m\u001b[0;34m)\u001b[0m\u001b[0;34m\u001b[0m\u001b[0;34m\u001b[0m\u001b[0m\n\u001b[0m\u001b[1;32m      7\u001b[0m \u001b[0mend_time\u001b[0m \u001b[0;34m=\u001b[0m \u001b[0mtimer\u001b[0m\u001b[0;34m(\u001b[0m\u001b[0;34m)\u001b[0m\u001b[0;34m\u001b[0m\u001b[0;34m\u001b[0m\u001b[0m\n\u001b[1;32m      8\u001b[0m \u001b[0;34m\u001b[0m\u001b[0m\n",
            "\u001b[0;32m<ipython-input-164-aacc87ce8dcb>\u001b[0m in \u001b[0;36mgan_fit\u001b[0;34m(EPOCHS, start_idx)\u001b[0m\n\u001b[1;32m     17\u001b[0m \u001b[0;34m\u001b[0m\u001b[0m\n\u001b[1;32m     18\u001b[0m       \u001b[0mloss_d\u001b[0m\u001b[0;34m,\u001b[0m \u001b[0mreal_score\u001b[0m\u001b[0;34m,\u001b[0m \u001b[0mfake_score\u001b[0m \u001b[0;34m=\u001b[0m \u001b[0mtrain_discriminator\u001b[0m\u001b[0;34m(\u001b[0m\u001b[0mnoisy_images\u001b[0m\u001b[0;34m,\u001b[0m \u001b[0mclean_images\u001b[0m\u001b[0;34m,\u001b[0m \u001b[0moptim_d\u001b[0m\u001b[0;34m)\u001b[0m\u001b[0;34m\u001b[0m\u001b[0;34m\u001b[0m\u001b[0m\n\u001b[0;32m---> 19\u001b[0;31m       \u001b[0mloss_g\u001b[0m \u001b[0;34m=\u001b[0m \u001b[0mtrain_generator\u001b[0m\u001b[0;34m(\u001b[0m\u001b[0mnoisy_images\u001b[0m\u001b[0;34m,\u001b[0m \u001b[0mclean_images\u001b[0m\u001b[0;34m,\u001b[0m \u001b[0moptim_g\u001b[0m\u001b[0;34m)\u001b[0m\u001b[0;34m\u001b[0m\u001b[0;34m\u001b[0m\u001b[0m\n\u001b[0m\u001b[1;32m     20\u001b[0m \u001b[0;34m\u001b[0m\u001b[0m\n\u001b[1;32m     21\u001b[0m       \u001b[0;31m#forward Pass\u001b[0m\u001b[0;34m\u001b[0m\u001b[0;34m\u001b[0m\u001b[0m\n",
            "\u001b[0;32m<ipython-input-162-03160ff0f160>\u001b[0m in \u001b[0;36mtrain_generator\u001b[0;34m(noisy_images, real_images, optimizer_g)\u001b[0m\n\u001b[1;32m     15\u001b[0m \u001b[0;34m\u001b[0m\u001b[0m\n\u001b[1;32m     16\u001b[0m   \u001b[0;31m# Extract VGG features\u001b[0m\u001b[0;34m\u001b[0m\u001b[0;34m\u001b[0m\u001b[0m\n\u001b[0;32m---> 17\u001b[0;31m   \u001b[0mfake_features\u001b[0m \u001b[0;34m=\u001b[0m \u001b[0mvgg_features\u001b[0m\u001b[0;34m(\u001b[0m\u001b[0mfake_images\u001b[0m\u001b[0;34m)\u001b[0m\u001b[0;34m\u001b[0m\u001b[0;34m\u001b[0m\u001b[0m\n\u001b[0m\u001b[1;32m     18\u001b[0m \u001b[0;34m\u001b[0m\u001b[0m\n\u001b[1;32m     19\u001b[0m   \u001b[0mreal_features\u001b[0m \u001b[0;34m=\u001b[0m \u001b[0mvgg_features\u001b[0m\u001b[0;34m(\u001b[0m\u001b[0mreal_images\u001b[0m\u001b[0;34m)\u001b[0m\u001b[0;34m\u001b[0m\u001b[0;34m\u001b[0m\u001b[0m\n",
            "\u001b[0;32m/usr/local/lib/python3.9/dist-packages/torch/nn/modules/module.py\u001b[0m in \u001b[0;36m_call_impl\u001b[0;34m(self, *args, **kwargs)\u001b[0m\n\u001b[1;32m   1499\u001b[0m                 \u001b[0;32mor\u001b[0m \u001b[0m_global_backward_pre_hooks\u001b[0m \u001b[0;32mor\u001b[0m \u001b[0m_global_backward_hooks\u001b[0m\u001b[0;34m\u001b[0m\u001b[0;34m\u001b[0m\u001b[0m\n\u001b[1;32m   1500\u001b[0m                 or _global_forward_hooks or _global_forward_pre_hooks):\n\u001b[0;32m-> 1501\u001b[0;31m             \u001b[0;32mreturn\u001b[0m \u001b[0mforward_call\u001b[0m\u001b[0;34m(\u001b[0m\u001b[0;34m*\u001b[0m\u001b[0margs\u001b[0m\u001b[0;34m,\u001b[0m \u001b[0;34m**\u001b[0m\u001b[0mkwargs\u001b[0m\u001b[0;34m)\u001b[0m\u001b[0;34m\u001b[0m\u001b[0;34m\u001b[0m\u001b[0m\n\u001b[0m\u001b[1;32m   1502\u001b[0m         \u001b[0;31m# Do not call functions when jit is used\u001b[0m\u001b[0;34m\u001b[0m\u001b[0;34m\u001b[0m\u001b[0m\n\u001b[1;32m   1503\u001b[0m         \u001b[0mfull_backward_hooks\u001b[0m\u001b[0;34m,\u001b[0m \u001b[0mnon_full_backward_hooks\u001b[0m \u001b[0;34m=\u001b[0m \u001b[0;34m[\u001b[0m\u001b[0;34m]\u001b[0m\u001b[0;34m,\u001b[0m \u001b[0;34m[\u001b[0m\u001b[0;34m]\u001b[0m\u001b[0;34m\u001b[0m\u001b[0;34m\u001b[0m\u001b[0m\n",
            "\u001b[0;32m/usr/local/lib/python3.9/dist-packages/torch/nn/modules/container.py\u001b[0m in \u001b[0;36mforward\u001b[0;34m(self, input)\u001b[0m\n\u001b[1;32m    215\u001b[0m     \u001b[0;32mdef\u001b[0m \u001b[0mforward\u001b[0m\u001b[0;34m(\u001b[0m\u001b[0mself\u001b[0m\u001b[0;34m,\u001b[0m \u001b[0minput\u001b[0m\u001b[0;34m)\u001b[0m\u001b[0;34m:\u001b[0m\u001b[0;34m\u001b[0m\u001b[0;34m\u001b[0m\u001b[0m\n\u001b[1;32m    216\u001b[0m         \u001b[0;32mfor\u001b[0m \u001b[0mmodule\u001b[0m \u001b[0;32min\u001b[0m \u001b[0mself\u001b[0m\u001b[0;34m:\u001b[0m\u001b[0;34m\u001b[0m\u001b[0;34m\u001b[0m\u001b[0m\n\u001b[0;32m--> 217\u001b[0;31m             \u001b[0minput\u001b[0m \u001b[0;34m=\u001b[0m \u001b[0mmodule\u001b[0m\u001b[0;34m(\u001b[0m\u001b[0minput\u001b[0m\u001b[0;34m)\u001b[0m\u001b[0;34m\u001b[0m\u001b[0;34m\u001b[0m\u001b[0m\n\u001b[0m\u001b[1;32m    218\u001b[0m         \u001b[0;32mreturn\u001b[0m \u001b[0minput\u001b[0m\u001b[0;34m\u001b[0m\u001b[0;34m\u001b[0m\u001b[0m\n\u001b[1;32m    219\u001b[0m \u001b[0;34m\u001b[0m\u001b[0m\n",
            "\u001b[0;32m/usr/local/lib/python3.9/dist-packages/torch/nn/modules/module.py\u001b[0m in \u001b[0;36m_call_impl\u001b[0;34m(self, *args, **kwargs)\u001b[0m\n\u001b[1;32m   1499\u001b[0m                 \u001b[0;32mor\u001b[0m \u001b[0m_global_backward_pre_hooks\u001b[0m \u001b[0;32mor\u001b[0m \u001b[0m_global_backward_hooks\u001b[0m\u001b[0;34m\u001b[0m\u001b[0;34m\u001b[0m\u001b[0m\n\u001b[1;32m   1500\u001b[0m                 or _global_forward_hooks or _global_forward_pre_hooks):\n\u001b[0;32m-> 1501\u001b[0;31m             \u001b[0;32mreturn\u001b[0m \u001b[0mforward_call\u001b[0m\u001b[0;34m(\u001b[0m\u001b[0;34m*\u001b[0m\u001b[0margs\u001b[0m\u001b[0;34m,\u001b[0m \u001b[0;34m**\u001b[0m\u001b[0mkwargs\u001b[0m\u001b[0;34m)\u001b[0m\u001b[0;34m\u001b[0m\u001b[0;34m\u001b[0m\u001b[0m\n\u001b[0m\u001b[1;32m   1502\u001b[0m         \u001b[0;31m# Do not call functions when jit is used\u001b[0m\u001b[0;34m\u001b[0m\u001b[0;34m\u001b[0m\u001b[0m\n\u001b[1;32m   1503\u001b[0m         \u001b[0mfull_backward_hooks\u001b[0m\u001b[0;34m,\u001b[0m \u001b[0mnon_full_backward_hooks\u001b[0m \u001b[0;34m=\u001b[0m \u001b[0;34m[\u001b[0m\u001b[0;34m]\u001b[0m\u001b[0;34m,\u001b[0m \u001b[0;34m[\u001b[0m\u001b[0;34m]\u001b[0m\u001b[0;34m\u001b[0m\u001b[0;34m\u001b[0m\u001b[0m\n",
            "\u001b[0;32m/usr/local/lib/python3.9/dist-packages/torch/nn/modules/conv.py\u001b[0m in \u001b[0;36mforward\u001b[0;34m(self, input)\u001b[0m\n\u001b[1;32m    461\u001b[0m \u001b[0;34m\u001b[0m\u001b[0m\n\u001b[1;32m    462\u001b[0m     \u001b[0;32mdef\u001b[0m \u001b[0mforward\u001b[0m\u001b[0;34m(\u001b[0m\u001b[0mself\u001b[0m\u001b[0;34m,\u001b[0m \u001b[0minput\u001b[0m\u001b[0;34m:\u001b[0m \u001b[0mTensor\u001b[0m\u001b[0;34m)\u001b[0m \u001b[0;34m->\u001b[0m \u001b[0mTensor\u001b[0m\u001b[0;34m:\u001b[0m\u001b[0;34m\u001b[0m\u001b[0;34m\u001b[0m\u001b[0m\n\u001b[0;32m--> 463\u001b[0;31m         \u001b[0;32mreturn\u001b[0m \u001b[0mself\u001b[0m\u001b[0;34m.\u001b[0m\u001b[0m_conv_forward\u001b[0m\u001b[0;34m(\u001b[0m\u001b[0minput\u001b[0m\u001b[0;34m,\u001b[0m \u001b[0mself\u001b[0m\u001b[0;34m.\u001b[0m\u001b[0mweight\u001b[0m\u001b[0;34m,\u001b[0m \u001b[0mself\u001b[0m\u001b[0;34m.\u001b[0m\u001b[0mbias\u001b[0m\u001b[0;34m)\u001b[0m\u001b[0;34m\u001b[0m\u001b[0;34m\u001b[0m\u001b[0m\n\u001b[0m\u001b[1;32m    464\u001b[0m \u001b[0;34m\u001b[0m\u001b[0m\n\u001b[1;32m    465\u001b[0m \u001b[0;32mclass\u001b[0m \u001b[0mConv3d\u001b[0m\u001b[0;34m(\u001b[0m\u001b[0m_ConvNd\u001b[0m\u001b[0;34m)\u001b[0m\u001b[0;34m:\u001b[0m\u001b[0;34m\u001b[0m\u001b[0;34m\u001b[0m\u001b[0m\n",
            "\u001b[0;32m/usr/local/lib/python3.9/dist-packages/torch/nn/modules/conv.py\u001b[0m in \u001b[0;36m_conv_forward\u001b[0;34m(self, input, weight, bias)\u001b[0m\n\u001b[1;32m    457\u001b[0m                             \u001b[0mweight\u001b[0m\u001b[0;34m,\u001b[0m \u001b[0mbias\u001b[0m\u001b[0;34m,\u001b[0m \u001b[0mself\u001b[0m\u001b[0;34m.\u001b[0m\u001b[0mstride\u001b[0m\u001b[0;34m,\u001b[0m\u001b[0;34m\u001b[0m\u001b[0;34m\u001b[0m\u001b[0m\n\u001b[1;32m    458\u001b[0m                             _pair(0), self.dilation, self.groups)\n\u001b[0;32m--> 459\u001b[0;31m         return F.conv2d(input, weight, bias, self.stride,\n\u001b[0m\u001b[1;32m    460\u001b[0m                         self.padding, self.dilation, self.groups)\n\u001b[1;32m    461\u001b[0m \u001b[0;34m\u001b[0m\u001b[0m\n",
            "\u001b[0;31mRuntimeError\u001b[0m: Input type (torch.cuda.FloatTensor) and weight type (torch.FloatTensor) should be the same"
          ]
        }
      ],
      "source": [
        "e = int(input(\"Enter EPOCHS:\"))\n",
        "EPOCHS = e\n",
        "from timeit import default_timer as timer\n",
        "\n",
        "start_time = timer()\n",
        "history = gan_fit(EPOCHS)\n",
        "end_time = timer()\n",
        "\n",
        "print(f\"\\nTotal Time Taken: {(end_time-start_time)/60} minutes\")\n"
      ]
    },
    {
      "cell_type": "markdown",
      "source": [
        "## Performance Evaluation"
      ],
      "metadata": {
        "id": "B-HvTly6LaxB"
      }
    },
    {
      "cell_type": "code",
      "execution_count": null,
      "metadata": {
        "id": "troKCqGKeEkY"
      },
      "outputs": [],
      "source": [
        "show_sample()"
      ]
    },
    {
      "cell_type": "code",
      "execution_count": null,
      "metadata": {
        "id": "ep70m5EHmjOI"
      },
      "outputs": [],
      "source": [
        "# plt.figure(figsize=(15, 12))\n",
        "# plt.suptitle(\"Noisy-Fake-Clean\", fontsize=18, y=0.95)\n",
        "# cols = 3\n",
        "# rows = EPOCHS\n",
        "# with torch.inference_mode():\n",
        "#   index = 1\n",
        "#   for i in range(rows*cols):\n",
        "#     for j in range(3):\n",
        "#       if index>rows*cols:\n",
        "#         break\n",
        "#       plt.subplot(rows,cols,index) \n",
        "#       plt.imshow(Images[i][j].squeeze().to('cpu'), 'gray')\n",
        "#       index+=1\n"
      ]
    },
    {
      "cell_type": "code",
      "execution_count": null,
      "metadata": {
        "id": "R2MQPx1i0lhv",
        "scrolled": true
      },
      "outputs": [],
      "source": [
        "# %load_ext tensorboard\n",
        "# %tensorboard --logdir runs"
      ]
    },
    {
      "cell_type": "code",
      "execution_count": null,
      "metadata": {
        "id": "Da8Sgd0D5vc2"
      },
      "outputs": [],
      "source": [
        "# history"
      ]
    },
    {
      "cell_type": "code",
      "execution_count": null,
      "metadata": {
        "id": "LCbqTNZSSvtl"
      },
      "outputs": [],
      "source": [
        "# from torch.profiler import profile, record_function, ProfilerActivity\n",
        "# import torch\n",
        "# import torchvision.models as models\n",
        "# model = models.resnet18()\n",
        "# inputs = torch.randn(5, 3, 224, 224)\n",
        "# with profile(activities=[ProfilerActivity.CPU, ProfilerActivity.CPU], record_shapes=True) as prof:\n",
        "#   with record_function(\"model_inference\"):\n",
        "#     model(inputs)\n",
        "\n",
        "# print(prof.key_averages().table(sort_by=\"cpu_time_total\", row_limit=10))"
      ]
    },
    {
      "cell_type": "code",
      "execution_count": null,
      "metadata": {
        "id": "PmxzMwmo5vc3"
      },
      "outputs": [],
      "source": []
    },
    {
      "cell_type": "code",
      "execution_count": null,
      "metadata": {
        "id": "XiWdj61H5vc1"
      },
      "outputs": [],
      "source": [
        "# !pip install ipywidgets\n",
        "# !jupyter nbextension enable --py widgetsnbextension"
      ]
    },
    {
      "cell_type": "code",
      "source": [
        "fi = torch.rand([32,1,64,64])\n",
        "rgb_image = fi.repeat(1, 3, 1, 1)\n",
        "print(fi.shape)\n",
        "vgg_features[0] = nn.Conv2d(1, 64, kernel_size=3, stride=1, padding=1)\n",
        "print(vgg_features)\n",
        "fake_features = vgg_features(fi)\n",
        "print(fake_features.shape)"
      ],
      "metadata": {
        "id": "LGeVDK6ohhac"
      },
      "execution_count": null,
      "outputs": []
    },
    {
      "cell_type": "code",
      "source": [
        "plt.imshow(fi[0].squeeze())"
      ],
      "metadata": {
        "id": "osv4Xs3HrzNB"
      },
      "execution_count": null,
      "outputs": []
    },
    {
      "cell_type": "code",
      "source": [
        "fi"
      ],
      "metadata": {
        "id": "k8FidH-klTAD"
      },
      "execution_count": null,
      "outputs": []
    },
    {
      "cell_type": "code",
      "source": [],
      "metadata": {
        "id": "xrsFNEetn5bW"
      },
      "execution_count": null,
      "outputs": []
    }
  ],
  "metadata": {
    "accelerator": "GPU",
    "colab": {
      "collapsed_sections": [
        "lPjlUov_bBgU",
        "zTXwtJyBX0RQ",
        "JSjwDmfs_e7o",
        "STH30FOvLGbS",
        "EWGunl6CKDnk",
        "UG6V12NmKNBV",
        "EfuPNLziWm1K",
        "3sW1J6NyWxIH",
        "o5ntxNdTWzv6"
      ],
      "provenance": [],
      "toc_visible": true,
      "include_colab_link": true
    },
    "gpuClass": "standard",
    "kernelspec": {
      "display_name": "Python 3 (ipykernel)",
      "language": "python",
      "name": "python3"
    },
    "language_info": {
      "codemirror_mode": {
        "name": "ipython",
        "version": 3
      },
      "file_extension": ".py",
      "mimetype": "text/x-python",
      "name": "python",
      "nbconvert_exporter": "python",
      "pygments_lexer": "ipython3",
      "version": "3.10.9"
    },
    "widgets": {
      "application/vnd.jupyter.widget-state+json": {
        "ee2c424d6b3043e6b98b78bba2d7c8f9": {
          "model_module": "@jupyter-widgets/controls",
          "model_name": "HBoxModel",
          "model_module_version": "1.5.0",
          "state": {
            "_dom_classes": [],
            "_model_module": "@jupyter-widgets/controls",
            "_model_module_version": "1.5.0",
            "_model_name": "HBoxModel",
            "_view_count": null,
            "_view_module": "@jupyter-widgets/controls",
            "_view_module_version": "1.5.0",
            "_view_name": "HBoxView",
            "box_style": "",
            "children": [
              "IPY_MODEL_30b062334cf54d138d1038aef92531e4",
              "IPY_MODEL_2667d7a9f8154b05b241a95230b2db52",
              "IPY_MODEL_e803b688d1d14153917fca28af62147f"
            ],
            "layout": "IPY_MODEL_50b3e2208dae4da1889a7a9a19eea036"
          }
        },
        "13cc8bf323154b378536ce4b6f76b690": {
          "model_module": "@jupyter-widgets/controls",
          "model_name": "HBoxModel",
          "model_module_version": "1.5.0",
          "state": {
            "_dom_classes": [],
            "_model_module": "@jupyter-widgets/controls",
            "_model_module_version": "1.5.0",
            "_model_name": "HBoxModel",
            "_view_count": null,
            "_view_module": "@jupyter-widgets/controls",
            "_view_module_version": "1.5.0",
            "_view_name": "HBoxView",
            "box_style": "",
            "children": [
              "IPY_MODEL_2a1d7b7c520649c58a97fe4903aec6d9",
              "IPY_MODEL_f9872720c36e4e249f16962651b8095b",
              "IPY_MODEL_e79dca72615f4851b0cfc6e434a63491"
            ],
            "layout": "IPY_MODEL_038452d4d63545199ef65d14524c2694"
          }
        },
        "30b062334cf54d138d1038aef92531e4": {
          "model_module": "@jupyter-widgets/controls",
          "model_name": "HTMLModel",
          "model_module_version": "1.5.0",
          "state": {
            "_dom_classes": [],
            "_model_module": "@jupyter-widgets/controls",
            "_model_module_version": "1.5.0",
            "_model_name": "HTMLModel",
            "_view_count": null,
            "_view_module": "@jupyter-widgets/controls",
            "_view_module_version": "1.5.0",
            "_view_name": "HTMLView",
            "description": "",
            "description_tooltip": null,
            "layout": "IPY_MODEL_5d46b5c554b04229b3d2fdb1fcb3ea9f",
            "placeholder": "​",
            "style": "IPY_MODEL_3d80a6ae381e403c9b6b6e91e1406aa1",
            "value": "  0%"
          }
        },
        "2667d7a9f8154b05b241a95230b2db52": {
          "model_module": "@jupyter-widgets/controls",
          "model_name": "FloatProgressModel",
          "model_module_version": "1.5.0",
          "state": {
            "_dom_classes": [],
            "_model_module": "@jupyter-widgets/controls",
            "_model_module_version": "1.5.0",
            "_model_name": "FloatProgressModel",
            "_view_count": null,
            "_view_module": "@jupyter-widgets/controls",
            "_view_module_version": "1.5.0",
            "_view_name": "ProgressView",
            "bar_style": "danger",
            "description": "",
            "description_tooltip": null,
            "layout": "IPY_MODEL_c6b4659c44c44b39b0514cea70cae957",
            "max": 100,
            "min": 0,
            "orientation": "horizontal",
            "style": "IPY_MODEL_ac7076ba469648f98eaa69274f5c7a5e",
            "value": 0
          }
        },
        "e803b688d1d14153917fca28af62147f": {
          "model_module": "@jupyter-widgets/controls",
          "model_name": "HTMLModel",
          "model_module_version": "1.5.0",
          "state": {
            "_dom_classes": [],
            "_model_module": "@jupyter-widgets/controls",
            "_model_module_version": "1.5.0",
            "_model_name": "HTMLModel",
            "_view_count": null,
            "_view_module": "@jupyter-widgets/controls",
            "_view_module_version": "1.5.0",
            "_view_name": "HTMLView",
            "description": "",
            "description_tooltip": null,
            "layout": "IPY_MODEL_9b22bdb539e04125949ab8d852656dbe",
            "placeholder": "​",
            "style": "IPY_MODEL_14afb3ed0ca04f43a4aa7e547d4182cc",
            "value": " 0/100 [00:00&lt;?, ?it/s]"
          }
        },
        "50b3e2208dae4da1889a7a9a19eea036": {
          "model_module": "@jupyter-widgets/base",
          "model_name": "LayoutModel",
          "model_module_version": "1.2.0",
          "state": {
            "_model_module": "@jupyter-widgets/base",
            "_model_module_version": "1.2.0",
            "_model_name": "LayoutModel",
            "_view_count": null,
            "_view_module": "@jupyter-widgets/base",
            "_view_module_version": "1.2.0",
            "_view_name": "LayoutView",
            "align_content": null,
            "align_items": null,
            "align_self": null,
            "border": null,
            "bottom": null,
            "display": null,
            "flex": null,
            "flex_flow": null,
            "grid_area": null,
            "grid_auto_columns": null,
            "grid_auto_flow": null,
            "grid_auto_rows": null,
            "grid_column": null,
            "grid_gap": null,
            "grid_row": null,
            "grid_template_areas": null,
            "grid_template_columns": null,
            "grid_template_rows": null,
            "height": null,
            "justify_content": null,
            "justify_items": null,
            "left": null,
            "margin": null,
            "max_height": null,
            "max_width": null,
            "min_height": null,
            "min_width": null,
            "object_fit": null,
            "object_position": null,
            "order": null,
            "overflow": null,
            "overflow_x": null,
            "overflow_y": null,
            "padding": null,
            "right": null,
            "top": null,
            "visibility": null,
            "width": null
          }
        },
        "2a1d7b7c520649c58a97fe4903aec6d9": {
          "model_module": "@jupyter-widgets/controls",
          "model_name": "HTMLModel",
          "model_module_version": "1.5.0",
          "state": {
            "_dom_classes": [],
            "_model_module": "@jupyter-widgets/controls",
            "_model_module_version": "1.5.0",
            "_model_name": "HTMLModel",
            "_view_count": null,
            "_view_module": "@jupyter-widgets/controls",
            "_view_module_version": "1.5.0",
            "_view_name": "HTMLView",
            "description": "",
            "description_tooltip": null,
            "layout": "IPY_MODEL_7961c63b308e4080a66928c113bde847",
            "placeholder": "​",
            "style": "IPY_MODEL_bab7dab949f94424ac7ad6e280b6d823",
            "value": "  0%"
          }
        },
        "f9872720c36e4e249f16962651b8095b": {
          "model_module": "@jupyter-widgets/controls",
          "model_name": "FloatProgressModel",
          "model_module_version": "1.5.0",
          "state": {
            "_dom_classes": [],
            "_model_module": "@jupyter-widgets/controls",
            "_model_module_version": "1.5.0",
            "_model_name": "FloatProgressModel",
            "_view_count": null,
            "_view_module": "@jupyter-widgets/controls",
            "_view_module_version": "1.5.0",
            "_view_name": "ProgressView",
            "bar_style": "danger",
            "description": "",
            "description_tooltip": null,
            "layout": "IPY_MODEL_38bb4bfe101d44129be54623ced81375",
            "max": 148,
            "min": 0,
            "orientation": "horizontal",
            "style": "IPY_MODEL_344b81445e534b3da31f08cd19a20c89",
            "value": 0
          }
        },
        "e79dca72615f4851b0cfc6e434a63491": {
          "model_module": "@jupyter-widgets/controls",
          "model_name": "HTMLModel",
          "model_module_version": "1.5.0",
          "state": {
            "_dom_classes": [],
            "_model_module": "@jupyter-widgets/controls",
            "_model_module_version": "1.5.0",
            "_model_name": "HTMLModel",
            "_view_count": null,
            "_view_module": "@jupyter-widgets/controls",
            "_view_module_version": "1.5.0",
            "_view_name": "HTMLView",
            "description": "",
            "description_tooltip": null,
            "layout": "IPY_MODEL_d52406af42e041f1a4060d47416ee65f",
            "placeholder": "​",
            "style": "IPY_MODEL_22ae1954a58d480387dd50ef36d5e615",
            "value": " 0/148 [00:00&lt;?, ?it/s]"
          }
        },
        "038452d4d63545199ef65d14524c2694": {
          "model_module": "@jupyter-widgets/base",
          "model_name": "LayoutModel",
          "model_module_version": "1.2.0",
          "state": {
            "_model_module": "@jupyter-widgets/base",
            "_model_module_version": "1.2.0",
            "_model_name": "LayoutModel",
            "_view_count": null,
            "_view_module": "@jupyter-widgets/base",
            "_view_module_version": "1.2.0",
            "_view_name": "LayoutView",
            "align_content": null,
            "align_items": null,
            "align_self": null,
            "border": null,
            "bottom": null,
            "display": null,
            "flex": null,
            "flex_flow": null,
            "grid_area": null,
            "grid_auto_columns": null,
            "grid_auto_flow": null,
            "grid_auto_rows": null,
            "grid_column": null,
            "grid_gap": null,
            "grid_row": null,
            "grid_template_areas": null,
            "grid_template_columns": null,
            "grid_template_rows": null,
            "height": null,
            "justify_content": null,
            "justify_items": null,
            "left": null,
            "margin": null,
            "max_height": null,
            "max_width": null,
            "min_height": null,
            "min_width": null,
            "object_fit": null,
            "object_position": null,
            "order": null,
            "overflow": null,
            "overflow_x": null,
            "overflow_y": null,
            "padding": null,
            "right": null,
            "top": null,
            "visibility": null,
            "width": null
          }
        },
        "5d46b5c554b04229b3d2fdb1fcb3ea9f": {
          "model_module": "@jupyter-widgets/base",
          "model_name": "LayoutModel",
          "model_module_version": "1.2.0",
          "state": {
            "_model_module": "@jupyter-widgets/base",
            "_model_module_version": "1.2.0",
            "_model_name": "LayoutModel",
            "_view_count": null,
            "_view_module": "@jupyter-widgets/base",
            "_view_module_version": "1.2.0",
            "_view_name": "LayoutView",
            "align_content": null,
            "align_items": null,
            "align_self": null,
            "border": null,
            "bottom": null,
            "display": null,
            "flex": null,
            "flex_flow": null,
            "grid_area": null,
            "grid_auto_columns": null,
            "grid_auto_flow": null,
            "grid_auto_rows": null,
            "grid_column": null,
            "grid_gap": null,
            "grid_row": null,
            "grid_template_areas": null,
            "grid_template_columns": null,
            "grid_template_rows": null,
            "height": null,
            "justify_content": null,
            "justify_items": null,
            "left": null,
            "margin": null,
            "max_height": null,
            "max_width": null,
            "min_height": null,
            "min_width": null,
            "object_fit": null,
            "object_position": null,
            "order": null,
            "overflow": null,
            "overflow_x": null,
            "overflow_y": null,
            "padding": null,
            "right": null,
            "top": null,
            "visibility": null,
            "width": null
          }
        },
        "3d80a6ae381e403c9b6b6e91e1406aa1": {
          "model_module": "@jupyter-widgets/controls",
          "model_name": "DescriptionStyleModel",
          "model_module_version": "1.5.0",
          "state": {
            "_model_module": "@jupyter-widgets/controls",
            "_model_module_version": "1.5.0",
            "_model_name": "DescriptionStyleModel",
            "_view_count": null,
            "_view_module": "@jupyter-widgets/base",
            "_view_module_version": "1.2.0",
            "_view_name": "StyleView",
            "description_width": ""
          }
        },
        "c6b4659c44c44b39b0514cea70cae957": {
          "model_module": "@jupyter-widgets/base",
          "model_name": "LayoutModel",
          "model_module_version": "1.2.0",
          "state": {
            "_model_module": "@jupyter-widgets/base",
            "_model_module_version": "1.2.0",
            "_model_name": "LayoutModel",
            "_view_count": null,
            "_view_module": "@jupyter-widgets/base",
            "_view_module_version": "1.2.0",
            "_view_name": "LayoutView",
            "align_content": null,
            "align_items": null,
            "align_self": null,
            "border": null,
            "bottom": null,
            "display": null,
            "flex": null,
            "flex_flow": null,
            "grid_area": null,
            "grid_auto_columns": null,
            "grid_auto_flow": null,
            "grid_auto_rows": null,
            "grid_column": null,
            "grid_gap": null,
            "grid_row": null,
            "grid_template_areas": null,
            "grid_template_columns": null,
            "grid_template_rows": null,
            "height": null,
            "justify_content": null,
            "justify_items": null,
            "left": null,
            "margin": null,
            "max_height": null,
            "max_width": null,
            "min_height": null,
            "min_width": null,
            "object_fit": null,
            "object_position": null,
            "order": null,
            "overflow": null,
            "overflow_x": null,
            "overflow_y": null,
            "padding": null,
            "right": null,
            "top": null,
            "visibility": null,
            "width": null
          }
        },
        "ac7076ba469648f98eaa69274f5c7a5e": {
          "model_module": "@jupyter-widgets/controls",
          "model_name": "ProgressStyleModel",
          "model_module_version": "1.5.0",
          "state": {
            "_model_module": "@jupyter-widgets/controls",
            "_model_module_version": "1.5.0",
            "_model_name": "ProgressStyleModel",
            "_view_count": null,
            "_view_module": "@jupyter-widgets/base",
            "_view_module_version": "1.2.0",
            "_view_name": "StyleView",
            "bar_color": null,
            "description_width": ""
          }
        },
        "9b22bdb539e04125949ab8d852656dbe": {
          "model_module": "@jupyter-widgets/base",
          "model_name": "LayoutModel",
          "model_module_version": "1.2.0",
          "state": {
            "_model_module": "@jupyter-widgets/base",
            "_model_module_version": "1.2.0",
            "_model_name": "LayoutModel",
            "_view_count": null,
            "_view_module": "@jupyter-widgets/base",
            "_view_module_version": "1.2.0",
            "_view_name": "LayoutView",
            "align_content": null,
            "align_items": null,
            "align_self": null,
            "border": null,
            "bottom": null,
            "display": null,
            "flex": null,
            "flex_flow": null,
            "grid_area": null,
            "grid_auto_columns": null,
            "grid_auto_flow": null,
            "grid_auto_rows": null,
            "grid_column": null,
            "grid_gap": null,
            "grid_row": null,
            "grid_template_areas": null,
            "grid_template_columns": null,
            "grid_template_rows": null,
            "height": null,
            "justify_content": null,
            "justify_items": null,
            "left": null,
            "margin": null,
            "max_height": null,
            "max_width": null,
            "min_height": null,
            "min_width": null,
            "object_fit": null,
            "object_position": null,
            "order": null,
            "overflow": null,
            "overflow_x": null,
            "overflow_y": null,
            "padding": null,
            "right": null,
            "top": null,
            "visibility": null,
            "width": null
          }
        },
        "14afb3ed0ca04f43a4aa7e547d4182cc": {
          "model_module": "@jupyter-widgets/controls",
          "model_name": "DescriptionStyleModel",
          "model_module_version": "1.5.0",
          "state": {
            "_model_module": "@jupyter-widgets/controls",
            "_model_module_version": "1.5.0",
            "_model_name": "DescriptionStyleModel",
            "_view_count": null,
            "_view_module": "@jupyter-widgets/base",
            "_view_module_version": "1.2.0",
            "_view_name": "StyleView",
            "description_width": ""
          }
        },
        "7961c63b308e4080a66928c113bde847": {
          "model_module": "@jupyter-widgets/base",
          "model_name": "LayoutModel",
          "model_module_version": "1.2.0",
          "state": {
            "_model_module": "@jupyter-widgets/base",
            "_model_module_version": "1.2.0",
            "_model_name": "LayoutModel",
            "_view_count": null,
            "_view_module": "@jupyter-widgets/base",
            "_view_module_version": "1.2.0",
            "_view_name": "LayoutView",
            "align_content": null,
            "align_items": null,
            "align_self": null,
            "border": null,
            "bottom": null,
            "display": null,
            "flex": null,
            "flex_flow": null,
            "grid_area": null,
            "grid_auto_columns": null,
            "grid_auto_flow": null,
            "grid_auto_rows": null,
            "grid_column": null,
            "grid_gap": null,
            "grid_row": null,
            "grid_template_areas": null,
            "grid_template_columns": null,
            "grid_template_rows": null,
            "height": null,
            "justify_content": null,
            "justify_items": null,
            "left": null,
            "margin": null,
            "max_height": null,
            "max_width": null,
            "min_height": null,
            "min_width": null,
            "object_fit": null,
            "object_position": null,
            "order": null,
            "overflow": null,
            "overflow_x": null,
            "overflow_y": null,
            "padding": null,
            "right": null,
            "top": null,
            "visibility": null,
            "width": null
          }
        },
        "bab7dab949f94424ac7ad6e280b6d823": {
          "model_module": "@jupyter-widgets/controls",
          "model_name": "DescriptionStyleModel",
          "model_module_version": "1.5.0",
          "state": {
            "_model_module": "@jupyter-widgets/controls",
            "_model_module_version": "1.5.0",
            "_model_name": "DescriptionStyleModel",
            "_view_count": null,
            "_view_module": "@jupyter-widgets/base",
            "_view_module_version": "1.2.0",
            "_view_name": "StyleView",
            "description_width": ""
          }
        },
        "38bb4bfe101d44129be54623ced81375": {
          "model_module": "@jupyter-widgets/base",
          "model_name": "LayoutModel",
          "model_module_version": "1.2.0",
          "state": {
            "_model_module": "@jupyter-widgets/base",
            "_model_module_version": "1.2.0",
            "_model_name": "LayoutModel",
            "_view_count": null,
            "_view_module": "@jupyter-widgets/base",
            "_view_module_version": "1.2.0",
            "_view_name": "LayoutView",
            "align_content": null,
            "align_items": null,
            "align_self": null,
            "border": null,
            "bottom": null,
            "display": null,
            "flex": null,
            "flex_flow": null,
            "grid_area": null,
            "grid_auto_columns": null,
            "grid_auto_flow": null,
            "grid_auto_rows": null,
            "grid_column": null,
            "grid_gap": null,
            "grid_row": null,
            "grid_template_areas": null,
            "grid_template_columns": null,
            "grid_template_rows": null,
            "height": null,
            "justify_content": null,
            "justify_items": null,
            "left": null,
            "margin": null,
            "max_height": null,
            "max_width": null,
            "min_height": null,
            "min_width": null,
            "object_fit": null,
            "object_position": null,
            "order": null,
            "overflow": null,
            "overflow_x": null,
            "overflow_y": null,
            "padding": null,
            "right": null,
            "top": null,
            "visibility": null,
            "width": null
          }
        },
        "344b81445e534b3da31f08cd19a20c89": {
          "model_module": "@jupyter-widgets/controls",
          "model_name": "ProgressStyleModel",
          "model_module_version": "1.5.0",
          "state": {
            "_model_module": "@jupyter-widgets/controls",
            "_model_module_version": "1.5.0",
            "_model_name": "ProgressStyleModel",
            "_view_count": null,
            "_view_module": "@jupyter-widgets/base",
            "_view_module_version": "1.2.0",
            "_view_name": "StyleView",
            "bar_color": null,
            "description_width": ""
          }
        },
        "d52406af42e041f1a4060d47416ee65f": {
          "model_module": "@jupyter-widgets/base",
          "model_name": "LayoutModel",
          "model_module_version": "1.2.0",
          "state": {
            "_model_module": "@jupyter-widgets/base",
            "_model_module_version": "1.2.0",
            "_model_name": "LayoutModel",
            "_view_count": null,
            "_view_module": "@jupyter-widgets/base",
            "_view_module_version": "1.2.0",
            "_view_name": "LayoutView",
            "align_content": null,
            "align_items": null,
            "align_self": null,
            "border": null,
            "bottom": null,
            "display": null,
            "flex": null,
            "flex_flow": null,
            "grid_area": null,
            "grid_auto_columns": null,
            "grid_auto_flow": null,
            "grid_auto_rows": null,
            "grid_column": null,
            "grid_gap": null,
            "grid_row": null,
            "grid_template_areas": null,
            "grid_template_columns": null,
            "grid_template_rows": null,
            "height": null,
            "justify_content": null,
            "justify_items": null,
            "left": null,
            "margin": null,
            "max_height": null,
            "max_width": null,
            "min_height": null,
            "min_width": null,
            "object_fit": null,
            "object_position": null,
            "order": null,
            "overflow": null,
            "overflow_x": null,
            "overflow_y": null,
            "padding": null,
            "right": null,
            "top": null,
            "visibility": null,
            "width": null
          }
        },
        "22ae1954a58d480387dd50ef36d5e615": {
          "model_module": "@jupyter-widgets/controls",
          "model_name": "DescriptionStyleModel",
          "model_module_version": "1.5.0",
          "state": {
            "_model_module": "@jupyter-widgets/controls",
            "_model_module_version": "1.5.0",
            "_model_name": "DescriptionStyleModel",
            "_view_count": null,
            "_view_module": "@jupyter-widgets/base",
            "_view_module_version": "1.2.0",
            "_view_name": "StyleView",
            "description_width": ""
          }
        }
      }
    }
  },
  "nbformat": 4,
  "nbformat_minor": 0
}