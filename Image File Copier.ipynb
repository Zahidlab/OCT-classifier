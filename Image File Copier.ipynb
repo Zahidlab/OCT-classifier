{
 "cells": [
  {
   "cell_type": "code",
   "execution_count": 2,
   "id": "06463864",
   "metadata": {},
   "outputs": [],
   "source": [
    "import os,shutil"
   ]
  },
  {
   "cell_type": "code",
   "execution_count": 5,
   "id": "0338b153",
   "metadata": {
    "scrolled": true
   },
   "outputs": [],
   "source": [
    "DATA_DIR = r\"C:\\Users\\HP\\Documents\\Zahid\\OCT\\DATASET\\OCT2017\\train\"\n",
    "\n",
    "TARGET_DATA_DIR = r\"C:\\Users\\HP\\Documents\\Zahid\\miniOCT\"\n",
    "# os.mkdir(TARGET_DATA_DIR)"
   ]
  },
  {
   "cell_type": "code",
   "execution_count": 16,
   "id": "0702557c",
   "metadata": {},
   "outputs": [],
   "source": [
    "for classes in os.listdir(DATA_DIR):\n",
    "    count =1\n",
    "    source_folder_path = os.path.join(DATA_DIR, classes)\n",
    "    \n",
    "    for img in os.listdir(source_folder_path):\n",
    "        if count>3000:\n",
    "            break\n",
    "        source_img_path = os.path.join(source_folder_path,img)\n",
    "        \n",
    "        target_folder_path = os.path.join(TARGET_DATA_DIR, classes)\n",
    "        if os.path.isdir(target_folder_path) == False:\n",
    "            os.mkdir(target_folder_path)\n",
    "        target_img_path = os.path.join(target_folder_path, img)\n",
    "        \n",
    "                 \n",
    "        shutil.copy(source_img_path, target_img_path)\n",
    "        count+=1\n",
    "        \n",
    "                 \n",
    "                 "
   ]
  },
  {
   "cell_type": "code",
   "execution_count": null,
   "id": "2d6d3267",
   "metadata": {},
   "outputs": [],
   "source": []
  }
 ],
 "metadata": {
  "kernelspec": {
   "display_name": "Python 3 (ipykernel)",
   "language": "python",
   "name": "python3"
  },
  "language_info": {
   "codemirror_mode": {
    "name": "ipython",
    "version": 3
   },
   "file_extension": ".py",
   "mimetype": "text/x-python",
   "name": "python",
   "nbconvert_exporter": "python",
   "pygments_lexer": "ipython3",
   "version": "3.10.9"
  }
 },
 "nbformat": 4,
 "nbformat_minor": 5
}
